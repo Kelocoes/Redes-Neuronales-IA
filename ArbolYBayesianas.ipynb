{
 "cells": [
  {
   "cell_type": "code",
   "execution_count": 7,
   "id": "128fb9cd",
   "metadata": {},
   "outputs": [],
   "source": [
    "import sklearn\n",
    "import numpy as np\n",
    "import pandas as pd"
   ]
  },
  {
   "cell_type": "markdown",
   "id": "1841ecff",
   "metadata": {},
   "source": [
    "#### Se carga el archivo y se separa entrenamiento y prueba"
   ]
  },
  {
   "cell_type": "code",
   "execution_count": 8,
   "id": "ad38c720",
   "metadata": {},
   "outputs": [
    {
     "name": "stdout",
     "output_type": "stream",
     "text": [
      "50286 40228 10058\n"
     ]
    }
   ],
   "source": [
    "from sklearn.model_selection import train_test_split\n",
    "\n",
    "datos = pd.read_csv('games.csv', sep = ';')\n",
    "\n",
    "cLargo = len(datos)\n",
    "cEntrenamiento = int(cLargo*0.8) ## 80% para entrenar y 20% para pruebas\n",
    "cPruebas = cLargo - cEntrenamiento\n",
    "\n",
    "print(cLargo, cEntrenamiento, cPruebas)\n",
    "c_entrenamiento, c_pruebas = train_test_split(datos, train_size= cEntrenamiento, test_size = cPruebas)"
   ]
  },
  {
   "cell_type": "code",
   "execution_count": 9,
   "id": "7e42d098",
   "metadata": {},
   "outputs": [
    {
     "data": {
      "text/plain": [
       "(40228, 18)"
      ]
     },
     "execution_count": 9,
     "metadata": {},
     "output_type": "execute_result"
    }
   ],
   "source": [
    "c_entrenamiento.shape"
   ]
  },
  {
   "cell_type": "code",
   "execution_count": 10,
   "id": "adca8e6b",
   "metadata": {},
   "outputs": [
    {
     "data": {
      "text/html": [
       "<div>\n",
       "<style scoped>\n",
       "    .dataframe tbody tr th:only-of-type {\n",
       "        vertical-align: middle;\n",
       "    }\n",
       "\n",
       "    .dataframe tbody tr th {\n",
       "        vertical-align: top;\n",
       "    }\n",
       "\n",
       "    .dataframe thead th {\n",
       "        text-align: right;\n",
       "    }\n",
       "</style>\n",
       "<table border=\"1\" class=\"dataframe\">\n",
       "  <thead>\n",
       "    <tr style=\"text-align: right;\">\n",
       "      <th></th>\n",
       "      <th>gameDuration</th>\n",
       "      <th>firstBlood</th>\n",
       "      <th>firstTower</th>\n",
       "      <th>firstInhibitor</th>\n",
       "      <th>firstBaron</th>\n",
       "      <th>firstDragon</th>\n",
       "      <th>firstRiftHerald</th>\n",
       "      <th>t1_towerKills</th>\n",
       "      <th>t1_inhibitorKills</th>\n",
       "      <th>t1_baronKills</th>\n",
       "      <th>t1_dragonKills</th>\n",
       "      <th>t1_riftHeraldKills</th>\n",
       "      <th>t2_towerKills</th>\n",
       "      <th>t2_inhibitorKills</th>\n",
       "      <th>t2_baronKills</th>\n",
       "      <th>t2_dragonKills</th>\n",
       "      <th>t2_riftHeraldKills</th>\n",
       "      <th>winner</th>\n",
       "    </tr>\n",
       "  </thead>\n",
       "  <tbody>\n",
       "    <tr>\n",
       "      <th>7963</th>\n",
       "      <td>1512</td>\n",
       "      <td>2</td>\n",
       "      <td>2</td>\n",
       "      <td>0</td>\n",
       "      <td>0</td>\n",
       "      <td>1</td>\n",
       "      <td>1</td>\n",
       "      <td>7</td>\n",
       "      <td>0</td>\n",
       "      <td>0</td>\n",
       "      <td>2</td>\n",
       "      <td>1</td>\n",
       "      <td>2</td>\n",
       "      <td>0</td>\n",
       "      <td>0</td>\n",
       "      <td>0</td>\n",
       "      <td>0</td>\n",
       "      <td>1</td>\n",
       "    </tr>\n",
       "    <tr>\n",
       "      <th>9898</th>\n",
       "      <td>2581</td>\n",
       "      <td>1</td>\n",
       "      <td>2</td>\n",
       "      <td>2</td>\n",
       "      <td>1</td>\n",
       "      <td>1</td>\n",
       "      <td>0</td>\n",
       "      <td>5</td>\n",
       "      <td>1</td>\n",
       "      <td>1</td>\n",
       "      <td>3</td>\n",
       "      <td>0</td>\n",
       "      <td>10</td>\n",
       "      <td>3</td>\n",
       "      <td>0</td>\n",
       "      <td>1</td>\n",
       "      <td>0</td>\n",
       "      <td>2</td>\n",
       "    </tr>\n",
       "    <tr>\n",
       "      <th>26575</th>\n",
       "      <td>1809</td>\n",
       "      <td>2</td>\n",
       "      <td>2</td>\n",
       "      <td>1</td>\n",
       "      <td>2</td>\n",
       "      <td>2</td>\n",
       "      <td>1</td>\n",
       "      <td>9</td>\n",
       "      <td>2</td>\n",
       "      <td>0</td>\n",
       "      <td>2</td>\n",
       "      <td>1</td>\n",
       "      <td>2</td>\n",
       "      <td>0</td>\n",
       "      <td>1</td>\n",
       "      <td>1</td>\n",
       "      <td>0</td>\n",
       "      <td>1</td>\n",
       "    </tr>\n",
       "    <tr>\n",
       "      <th>17808</th>\n",
       "      <td>1268</td>\n",
       "      <td>1</td>\n",
       "      <td>1</td>\n",
       "      <td>0</td>\n",
       "      <td>1</td>\n",
       "      <td>1</td>\n",
       "      <td>2</td>\n",
       "      <td>4</td>\n",
       "      <td>0</td>\n",
       "      <td>1</td>\n",
       "      <td>2</td>\n",
       "      <td>0</td>\n",
       "      <td>2</td>\n",
       "      <td>0</td>\n",
       "      <td>0</td>\n",
       "      <td>0</td>\n",
       "      <td>1</td>\n",
       "      <td>1</td>\n",
       "    </tr>\n",
       "    <tr>\n",
       "      <th>6985</th>\n",
       "      <td>1480</td>\n",
       "      <td>2</td>\n",
       "      <td>2</td>\n",
       "      <td>1</td>\n",
       "      <td>1</td>\n",
       "      <td>2</td>\n",
       "      <td>1</td>\n",
       "      <td>4</td>\n",
       "      <td>1</td>\n",
       "      <td>1</td>\n",
       "      <td>0</td>\n",
       "      <td>1</td>\n",
       "      <td>3</td>\n",
       "      <td>0</td>\n",
       "      <td>0</td>\n",
       "      <td>3</td>\n",
       "      <td>0</td>\n",
       "      <td>1</td>\n",
       "    </tr>\n",
       "  </tbody>\n",
       "</table>\n",
       "</div>"
      ],
      "text/plain": [
       "       gameDuration  firstBlood  firstTower  firstInhibitor  firstBaron  \\\n",
       "7963           1512           2           2               0           0   \n",
       "9898           2581           1           2               2           1   \n",
       "26575          1809           2           2               1           2   \n",
       "17808          1268           1           1               0           1   \n",
       "6985           1480           2           2               1           1   \n",
       "\n",
       "       firstDragon  firstRiftHerald  t1_towerKills  t1_inhibitorKills  \\\n",
       "7963             1                1              7                  0   \n",
       "9898             1                0              5                  1   \n",
       "26575            2                1              9                  2   \n",
       "17808            1                2              4                  0   \n",
       "6985             2                1              4                  1   \n",
       "\n",
       "       t1_baronKills  t1_dragonKills  t1_riftHeraldKills  t2_towerKills  \\\n",
       "7963               0               2                   1              2   \n",
       "9898               1               3                   0             10   \n",
       "26575              0               2                   1              2   \n",
       "17808              1               2                   0              2   \n",
       "6985               1               0                   1              3   \n",
       "\n",
       "       t2_inhibitorKills  t2_baronKills  t2_dragonKills  t2_riftHeraldKills  \\\n",
       "7963                   0              0               0                   0   \n",
       "9898                   3              0               1                   0   \n",
       "26575                  0              1               1                   0   \n",
       "17808                  0              0               0                   1   \n",
       "6985                   0              0               3                   0   \n",
       "\n",
       "       winner  \n",
       "7963        1  \n",
       "9898        2  \n",
       "26575       1  \n",
       "17808       1  \n",
       "6985        1  "
      ]
     },
     "execution_count": 10,
     "metadata": {},
     "output_type": "execute_result"
    }
   ],
   "source": [
    "c_entrenamiento.head()"
   ]
  },
  {
   "cell_type": "code",
   "execution_count": 11,
   "id": "25301005",
   "metadata": {},
   "outputs": [
    {
     "name": "stdout",
     "output_type": "stream",
     "text": [
      "<class 'pandas.core.frame.DataFrame'>\n",
      "Int64Index: 40228 entries, 7963 to 38358\n",
      "Data columns (total 18 columns):\n",
      " #   Column              Non-Null Count  Dtype\n",
      "---  ------              --------------  -----\n",
      " 0   gameDuration        40228 non-null  int64\n",
      " 1   firstBlood          40228 non-null  int64\n",
      " 2   firstTower          40228 non-null  int64\n",
      " 3   firstInhibitor      40228 non-null  int64\n",
      " 4   firstBaron          40228 non-null  int64\n",
      " 5   firstDragon         40228 non-null  int64\n",
      " 6   firstRiftHerald     40228 non-null  int64\n",
      " 7   t1_towerKills       40228 non-null  int64\n",
      " 8   t1_inhibitorKills   40228 non-null  int64\n",
      " 9   t1_baronKills       40228 non-null  int64\n",
      " 10  t1_dragonKills      40228 non-null  int64\n",
      " 11  t1_riftHeraldKills  40228 non-null  int64\n",
      " 12  t2_towerKills       40228 non-null  int64\n",
      " 13  t2_inhibitorKills   40228 non-null  int64\n",
      " 14  t2_baronKills       40228 non-null  int64\n",
      " 15  t2_dragonKills      40228 non-null  int64\n",
      " 16  t2_riftHeraldKills  40228 non-null  int64\n",
      " 17  winner              40228 non-null  int64\n",
      "dtypes: int64(18)\n",
      "memory usage: 5.8 MB\n"
     ]
    }
   ],
   "source": [
    "c_entrenamiento.info()"
   ]
  },
  {
   "cell_type": "code",
   "execution_count": 12,
   "id": "4e5808ad",
   "metadata": {},
   "outputs": [
    {
     "data": {
      "text/html": [
       "<div>\n",
       "<style scoped>\n",
       "    .dataframe tbody tr th:only-of-type {\n",
       "        vertical-align: middle;\n",
       "    }\n",
       "\n",
       "    .dataframe tbody tr th {\n",
       "        vertical-align: top;\n",
       "    }\n",
       "\n",
       "    .dataframe thead th {\n",
       "        text-align: right;\n",
       "    }\n",
       "</style>\n",
       "<table border=\"1\" class=\"dataframe\">\n",
       "  <thead>\n",
       "    <tr style=\"text-align: right;\">\n",
       "      <th></th>\n",
       "      <th>gameDuration</th>\n",
       "      <th>firstBlood</th>\n",
       "      <th>firstTower</th>\n",
       "      <th>firstInhibitor</th>\n",
       "      <th>firstBaron</th>\n",
       "      <th>firstDragon</th>\n",
       "      <th>firstRiftHerald</th>\n",
       "      <th>t1_towerKills</th>\n",
       "      <th>t1_inhibitorKills</th>\n",
       "      <th>t1_baronKills</th>\n",
       "      <th>t1_dragonKills</th>\n",
       "      <th>t1_riftHeraldKills</th>\n",
       "      <th>t2_towerKills</th>\n",
       "      <th>t2_inhibitorKills</th>\n",
       "      <th>t2_baronKills</th>\n",
       "      <th>t2_dragonKills</th>\n",
       "      <th>t2_riftHeraldKills</th>\n",
       "      <th>winner</th>\n",
       "    </tr>\n",
       "  </thead>\n",
       "  <tbody>\n",
       "    <tr>\n",
       "      <th>count</th>\n",
       "      <td>40228.000000</td>\n",
       "      <td>40228.000000</td>\n",
       "      <td>40228.000000</td>\n",
       "      <td>40228.000000</td>\n",
       "      <td>40228.000000</td>\n",
       "      <td>40228.000000</td>\n",
       "      <td>40228.000000</td>\n",
       "      <td>40228.000000</td>\n",
       "      <td>40228.000000</td>\n",
       "      <td>40228.000000</td>\n",
       "      <td>40228.000000</td>\n",
       "      <td>40228.000000</td>\n",
       "      <td>40228.000000</td>\n",
       "      <td>40228.000000</td>\n",
       "      <td>40228.000000</td>\n",
       "      <td>40228.000000</td>\n",
       "      <td>40228.000000</td>\n",
       "      <td>40228.000000</td>\n",
       "    </tr>\n",
       "    <tr>\n",
       "      <th>mean</th>\n",
       "      <td>1871.460600</td>\n",
       "      <td>1.488615</td>\n",
       "      <td>1.487645</td>\n",
       "      <td>1.342672</td>\n",
       "      <td>0.947847</td>\n",
       "      <td>1.478199</td>\n",
       "      <td>0.751690</td>\n",
       "      <td>5.836333</td>\n",
       "      <td>1.041215</td>\n",
       "      <td>0.381948</td>\n",
       "      <td>1.420453</td>\n",
       "      <td>0.257855</td>\n",
       "      <td>5.692826</td>\n",
       "      <td>1.008427</td>\n",
       "      <td>0.422964</td>\n",
       "      <td>1.439843</td>\n",
       "      <td>0.246918</td>\n",
       "      <td>1.494730</td>\n",
       "    </tr>\n",
       "    <tr>\n",
       "      <th>std</th>\n",
       "      <td>450.416293</td>\n",
       "      <td>0.499877</td>\n",
       "      <td>0.500500</td>\n",
       "      <td>0.651478</td>\n",
       "      <td>0.838584</td>\n",
       "      <td>0.530331</td>\n",
       "      <td>0.824927</td>\n",
       "      <td>3.739153</td>\n",
       "      <td>1.269467</td>\n",
       "      <td>0.588636</td>\n",
       "      <td>1.201714</td>\n",
       "      <td>0.437459</td>\n",
       "      <td>3.809805</td>\n",
       "      <td>1.259090</td>\n",
       "      <td>0.616119</td>\n",
       "      <td>1.217691</td>\n",
       "      <td>0.431224</td>\n",
       "      <td>0.499978</td>\n",
       "    </tr>\n",
       "    <tr>\n",
       "      <th>min</th>\n",
       "      <td>610.000000</td>\n",
       "      <td>1.000000</td>\n",
       "      <td>0.000000</td>\n",
       "      <td>0.000000</td>\n",
       "      <td>0.000000</td>\n",
       "      <td>0.000000</td>\n",
       "      <td>0.000000</td>\n",
       "      <td>0.000000</td>\n",
       "      <td>0.000000</td>\n",
       "      <td>0.000000</td>\n",
       "      <td>0.000000</td>\n",
       "      <td>0.000000</td>\n",
       "      <td>0.000000</td>\n",
       "      <td>0.000000</td>\n",
       "      <td>0.000000</td>\n",
       "      <td>0.000000</td>\n",
       "      <td>0.000000</td>\n",
       "      <td>1.000000</td>\n",
       "    </tr>\n",
       "    <tr>\n",
       "      <th>25%</th>\n",
       "      <td>1554.000000</td>\n",
       "      <td>1.000000</td>\n",
       "      <td>1.000000</td>\n",
       "      <td>1.000000</td>\n",
       "      <td>0.000000</td>\n",
       "      <td>1.000000</td>\n",
       "      <td>0.000000</td>\n",
       "      <td>2.000000</td>\n",
       "      <td>0.000000</td>\n",
       "      <td>0.000000</td>\n",
       "      <td>0.000000</td>\n",
       "      <td>0.000000</td>\n",
       "      <td>2.000000</td>\n",
       "      <td>0.000000</td>\n",
       "      <td>0.000000</td>\n",
       "      <td>0.000000</td>\n",
       "      <td>0.000000</td>\n",
       "      <td>1.000000</td>\n",
       "    </tr>\n",
       "    <tr>\n",
       "      <th>50%</th>\n",
       "      <td>1845.500000</td>\n",
       "      <td>1.000000</td>\n",
       "      <td>1.000000</td>\n",
       "      <td>1.000000</td>\n",
       "      <td>1.000000</td>\n",
       "      <td>1.000000</td>\n",
       "      <td>1.000000</td>\n",
       "      <td>6.000000</td>\n",
       "      <td>1.000000</td>\n",
       "      <td>0.000000</td>\n",
       "      <td>1.000000</td>\n",
       "      <td>0.000000</td>\n",
       "      <td>6.000000</td>\n",
       "      <td>0.000000</td>\n",
       "      <td>0.000000</td>\n",
       "      <td>1.000000</td>\n",
       "      <td>0.000000</td>\n",
       "      <td>1.000000</td>\n",
       "    </tr>\n",
       "    <tr>\n",
       "      <th>75%</th>\n",
       "      <td>2156.000000</td>\n",
       "      <td>2.000000</td>\n",
       "      <td>2.000000</td>\n",
       "      <td>2.000000</td>\n",
       "      <td>2.000000</td>\n",
       "      <td>2.000000</td>\n",
       "      <td>1.000000</td>\n",
       "      <td>9.000000</td>\n",
       "      <td>2.000000</td>\n",
       "      <td>1.000000</td>\n",
       "      <td>2.000000</td>\n",
       "      <td>1.000000</td>\n",
       "      <td>9.000000</td>\n",
       "      <td>2.000000</td>\n",
       "      <td>1.000000</td>\n",
       "      <td>2.000000</td>\n",
       "      <td>0.000000</td>\n",
       "      <td>2.000000</td>\n",
       "    </tr>\n",
       "    <tr>\n",
       "      <th>max</th>\n",
       "      <td>4728.000000</td>\n",
       "      <td>2.000000</td>\n",
       "      <td>2.000000</td>\n",
       "      <td>2.000000</td>\n",
       "      <td>2.000000</td>\n",
       "      <td>2.000000</td>\n",
       "      <td>2.000000</td>\n",
       "      <td>11.000000</td>\n",
       "      <td>10.000000</td>\n",
       "      <td>4.000000</td>\n",
       "      <td>6.000000</td>\n",
       "      <td>1.000000</td>\n",
       "      <td>11.000000</td>\n",
       "      <td>10.000000</td>\n",
       "      <td>4.000000</td>\n",
       "      <td>6.000000</td>\n",
       "      <td>1.000000</td>\n",
       "      <td>2.000000</td>\n",
       "    </tr>\n",
       "  </tbody>\n",
       "</table>\n",
       "</div>"
      ],
      "text/plain": [
       "       gameDuration    firstBlood    firstTower  firstInhibitor    firstBaron  \\\n",
       "count  40228.000000  40228.000000  40228.000000    40228.000000  40228.000000   \n",
       "mean    1871.460600      1.488615      1.487645        1.342672      0.947847   \n",
       "std      450.416293      0.499877      0.500500        0.651478      0.838584   \n",
       "min      610.000000      1.000000      0.000000        0.000000      0.000000   \n",
       "25%     1554.000000      1.000000      1.000000        1.000000      0.000000   \n",
       "50%     1845.500000      1.000000      1.000000        1.000000      1.000000   \n",
       "75%     2156.000000      2.000000      2.000000        2.000000      2.000000   \n",
       "max     4728.000000      2.000000      2.000000        2.000000      2.000000   \n",
       "\n",
       "        firstDragon  firstRiftHerald  t1_towerKills  t1_inhibitorKills  \\\n",
       "count  40228.000000     40228.000000   40228.000000       40228.000000   \n",
       "mean       1.478199         0.751690       5.836333           1.041215   \n",
       "std        0.530331         0.824927       3.739153           1.269467   \n",
       "min        0.000000         0.000000       0.000000           0.000000   \n",
       "25%        1.000000         0.000000       2.000000           0.000000   \n",
       "50%        1.000000         1.000000       6.000000           1.000000   \n",
       "75%        2.000000         1.000000       9.000000           2.000000   \n",
       "max        2.000000         2.000000      11.000000          10.000000   \n",
       "\n",
       "       t1_baronKills  t1_dragonKills  t1_riftHeraldKills  t2_towerKills  \\\n",
       "count   40228.000000    40228.000000        40228.000000   40228.000000   \n",
       "mean        0.381948        1.420453            0.257855       5.692826   \n",
       "std         0.588636        1.201714            0.437459       3.809805   \n",
       "min         0.000000        0.000000            0.000000       0.000000   \n",
       "25%         0.000000        0.000000            0.000000       2.000000   \n",
       "50%         0.000000        1.000000            0.000000       6.000000   \n",
       "75%         1.000000        2.000000            1.000000       9.000000   \n",
       "max         4.000000        6.000000            1.000000      11.000000   \n",
       "\n",
       "       t2_inhibitorKills  t2_baronKills  t2_dragonKills  t2_riftHeraldKills  \\\n",
       "count       40228.000000   40228.000000    40228.000000        40228.000000   \n",
       "mean            1.008427       0.422964        1.439843            0.246918   \n",
       "std             1.259090       0.616119        1.217691            0.431224   \n",
       "min             0.000000       0.000000        0.000000            0.000000   \n",
       "25%             0.000000       0.000000        0.000000            0.000000   \n",
       "50%             0.000000       0.000000        1.000000            0.000000   \n",
       "75%             2.000000       1.000000        2.000000            0.000000   \n",
       "max            10.000000       4.000000        6.000000            1.000000   \n",
       "\n",
       "             winner  \n",
       "count  40228.000000  \n",
       "mean       1.494730  \n",
       "std        0.499978  \n",
       "min        1.000000  \n",
       "25%        1.000000  \n",
       "50%        1.000000  \n",
       "75%        2.000000  \n",
       "max        2.000000  "
      ]
     },
     "execution_count": 12,
     "metadata": {},
     "output_type": "execute_result"
    }
   ],
   "source": [
    "c_entrenamiento.describe()"
   ]
  },
  {
   "cell_type": "markdown",
   "id": "9f82e2b4",
   "metadata": {},
   "source": [
    "## Pipelines para los atributos numéricos"
   ]
  },
  {
   "cell_type": "code",
   "execution_count": 13,
   "id": "1eb37dea",
   "metadata": {},
   "outputs": [],
   "source": [
    "from sklearn.pipeline import Pipeline\n",
    "from sklearn.impute import SimpleImputer\n",
    "from sklearn.preprocessing import StandardScaler\n",
    "from sklearn.preprocessing import OneHotEncoder"
   ]
  },
  {
   "cell_type": "code",
   "execution_count": 14,
   "id": "48171d7a",
   "metadata": {},
   "outputs": [],
   "source": [
    "## Game duration:\n",
    "numero_atributos_num0 = [\"gameDuration\"]\n",
    "\n",
    "# Atributos categoricos: \n",
    "numero_atributos_cat = [\"firstBlood\",\n",
    "                        \"firstTower\",\n",
    "                        \"firstInhibitor\",\n",
    "                        \"firstBaron\",\n",
    "                        \"firstDragon\",\n",
    "                        \"firstRiftHerald\"]\n",
    "# Atributos numericos: \n",
    " \n",
    "numero_atributos_num = [\"t1_towerKills\",\n",
    "                        \"t1_inhibitorKills\",\n",
    "                        \"t1_baronKills\",\n",
    "                        \"t1_dragonKills\",\n",
    "                        \"t1_riftHeraldKills\",\n",
    "                        \"t2_towerKills\",\n",
    "                        \"t2_inhibitorKills\",\n",
    "                        \"t2_baronKills\",\n",
    "                        \"t2_dragonKills\",\n",
    "                        \"t2_riftHeraldKills\"]\n",
    "\n",
    "numero_pipeline = Pipeline([\n",
    "   (\"imputer\", SimpleImputer(strategy = \"most_frequent\")),\n",
    "   (\"scaler\", StandardScaler())\n",
    "])\n",
    "\n",
    "categorico_pipeline = Pipeline([\n",
    "    (\"imputer\", SimpleImputer(strategy = \"most_frequent\")),\n",
    "    (\"scaler\", OneHotEncoder(sparse = False))\n",
    "])"
   ]
  },
  {
   "cell_type": "code",
   "execution_count": 15,
   "id": "b1b5e60d",
   "metadata": {},
   "outputs": [],
   "source": [
    "from sklearn.compose import ColumnTransformer"
   ]
  },
  {
   "cell_type": "markdown",
   "id": "5ab21b08",
   "metadata": {},
   "source": [
    "## Pipeline completo"
   ]
  },
  {
   "cell_type": "code",
   "execution_count": 16,
   "id": "097a55d6",
   "metadata": {},
   "outputs": [],
   "source": [
    "full_pipeline = ColumnTransformer([\n",
    "    (\"num0\", numero_pipeline, numero_atributos_num0),\n",
    "    (\"cat\", categorico_pipeline, numero_atributos_cat),\n",
    "    (\"num\", numero_pipeline, numero_atributos_num)\n",
    "])"
   ]
  },
  {
   "cell_type": "markdown",
   "id": "8293e405",
   "metadata": {},
   "source": [
    "## Extraemos las etiquetas de clase"
   ]
  },
  {
   "cell_type": "code",
   "execution_count": 17,
   "id": "23e6758b",
   "metadata": {},
   "outputs": [],
   "source": [
    "x_entrenamiento = full_pipeline.fit_transform(c_entrenamiento)"
   ]
  },
  {
   "cell_type": "code",
   "execution_count": 18,
   "id": "f5d9fc1b",
   "metadata": {},
   "outputs": [
    {
     "data": {
      "text/plain": [
       "(40228, 28)"
      ]
     },
     "execution_count": 18,
     "metadata": {},
     "output_type": "execute_result"
    }
   ],
   "source": [
    "x_entrenamiento.shape"
   ]
  },
  {
   "cell_type": "code",
   "execution_count": 19,
   "id": "4a3e0d46",
   "metadata": {},
   "outputs": [
    {
     "data": {
      "text/plain": [
       "array([-0.79807297,  0.        ,  1.        ,  0.        ,  0.        ,\n",
       "        1.        ,  1.        ,  0.        ,  0.        ,  1.        ,\n",
       "        0.        ,  0.        ,  0.        ,  1.        ,  0.        ,\n",
       "        0.        ,  1.        ,  0.        ,  0.31121527, -0.8202089 ,\n",
       "       -0.64887694,  0.48227275,  1.69650971, -0.96930741, -0.80092742,\n",
       "       -0.68650615, -1.18245194, -0.57260448])"
      ]
     },
     "execution_count": 19,
     "metadata": {},
     "output_type": "execute_result"
    }
   ],
   "source": [
    "x_entrenamiento[0, :]"
   ]
  },
  {
   "cell_type": "code",
   "execution_count": 20,
   "id": "f021c28d",
   "metadata": {},
   "outputs": [
    {
     "data": {
      "text/plain": [
       "7963     1\n",
       "9898     2\n",
       "26575    1\n",
       "17808    1\n",
       "6985     1\n",
       "        ..\n",
       "37792    1\n",
       "31925    1\n",
       "22589    1\n",
       "39816    1\n",
       "38358    1\n",
       "Name: winner, Length: 40228, dtype: int64"
      ]
     },
     "execution_count": 20,
     "metadata": {},
     "output_type": "execute_result"
    }
   ],
   "source": [
    "y_entrenamiento = c_entrenamiento[\"winner\"]\n",
    "y_entrenamiento"
   ]
  },
  {
   "cell_type": "markdown",
   "id": "5ed8dfd4",
   "metadata": {},
   "source": [
    "## Arboles de decisión"
   ]
  },
  {
   "cell_type": "markdown",
   "id": "3dd7f9b7",
   "metadata": {},
   "source": [
    "### Algoritmo DecisionTreeClassifier"
   ]
  },
  {
   "cell_type": "code",
   "execution_count": 21,
   "id": "a03f1c86",
   "metadata": {},
   "outputs": [],
   "source": [
    "from sklearn import tree\n",
    "from sklearn.model_selection import cross_val_score\n",
    "\n",
    "## Para ver la presición\n",
    "from sklearn.model_selection import cross_val_score\n",
    "import matplotlib.pyplot as plt\n",
    "import seaborn as sns\n",
    "from sklearn.metrics import accuracy_score\n",
    "from sklearn.metrics import confusion_matrix\n",
    "import warnings"
   ]
  },
  {
   "cell_type": "markdown",
   "id": "97de64ce",
   "metadata": {},
   "source": [
    "#### Omitir warnings y configuración para ver la precisión"
   ]
  },
  {
   "cell_type": "code",
   "execution_count": 22,
   "id": "23723400",
   "metadata": {},
   "outputs": [],
   "source": [
    "warnings.filterwarnings(action= 'ignore')\n",
    "\n",
    "x_pruebas = full_pipeline.transform(c_pruebas)\n",
    "y_pruebas = c_pruebas[\"winner\"]"
   ]
  },
  {
   "cell_type": "markdown",
   "id": "f51191db",
   "metadata": {},
   "source": [
    "#### Bucle para hallar los 10 arboles con variaciones en max_depth"
   ]
  },
  {
   "cell_type": "code",
   "execution_count": 23,
   "id": "32721157",
   "metadata": {
    "scrolled": true
   },
   "outputs": [
    {
     "name": "stdout",
     "output_type": "stream",
     "text": [
      "Se hizo la iteracion:1\n",
      "Accuracy del modelo 1 : 0.9698747265858023\n",
      "Se hizo la iteracion:2\n",
      "Accuracy del modelo 2 : 0.9698747265858023\n",
      "Se hizo la iteracion:3\n",
      "Accuracy del modelo 3 : 0.9698747265858023\n",
      "Se hizo la iteracion:4\n",
      "Accuracy del modelo 4 : 0.9698747265858023\n",
      "Se hizo la iteracion:5\n",
      "Accuracy del modelo 5 : 0.9698747265858023\n",
      "Se hizo la iteracion:6\n",
      "Accuracy del modelo 6 : 0.9698747265858023\n",
      "Se hizo la iteracion:7\n",
      "Accuracy del modelo 7 : 0.9698747265858023\n",
      "Se hizo la iteracion:8\n",
      "Accuracy del modelo 8 : 0.9698747265858023\n",
      "Se hizo la iteracion:9\n",
      "Accuracy del modelo 9 : 0.9698747265858023\n",
      "Se hizo la iteracion:10\n",
      "Accuracy del modelo 10 : 0.9698747265858023\n"
     ]
    },
    {
     "data": {
      "image/png": "[encoded data removed]",
      "text/plain": [
       "<Figure size 432x288 with 1 Axes>"
      ]
     },
     "metadata": {
      "needs_background": "light"
     },
     "output_type": "display_data"
    }
   ],
   "source": [
    "for i in range(1, 11):\n",
    "    modeloN = tree.DecisionTreeClassifier(criterion = 'gini', max_depth=100*i, splitter = \"best\", random_state= 123)\n",
    "    modeloN.fit(x_entrenamiento, y_entrenamiento)\n",
    "    scoresN = cross_val_score(modeloN, x_entrenamiento, y_entrenamiento, cv = 5, scoring = 'accuracy')\n",
    "    ## print(scoresN)\n",
    "    ## print(scoresN.mean())\n",
    "    tree.plot_tree(modeloN)\n",
    "    tree.export_graphviz(decision_tree = modeloN, class_names= True, out_file = \"./Punto 4/Arbol modelo \" + str(i) + \".dot\")\n",
    "    print(\"Se hizo la iteracion:\" + str(i))\n",
    "    \n",
    "    ## Accuracy del modelo    \n",
    "    x_pruebas = full_pipeline.transform(c_pruebas)\n",
    "    y_pred = modeloN.predict(x_pruebas)\n",
    "\n",
    "    print(\"Accuracy del modelo \" + str(i) + \" :\", accuracy_score(y_pruebas, y_pred))"
   ]
  },
  {
   "cell_type": "markdown",
   "id": "ec82946e",
   "metadata": {},
   "source": [
    "### Tabla de resultados"
   ]
  },
  {
   "cell_type": "markdown",
   "id": "3e836d28",
   "metadata": {},
   "source": [
    "||| Accuracy obtenido |||\n",
    "| :--- | :----: | :----: | :----:  | ---: |\n",
    "| __Modelo__ | __Criterio__ | __MaxDepth__ | __Spliterr__ | __*Accuracy*__|\n",
    "| 1 | gini | 100 | best | 0.9698747265858023 |\n",
    "| 2 | gini | 200 | best | 0.9698747265858023 |\n",
    "| 3 | gini | 300 | best | 0.9698747265858023 |\n",
    "| 4 | gini | 400 | best | 0.9698747265858023 |\n",
    "| 5 | gini | 500 | best | 0.9698747265858023 |\n",
    "| 6 | gini | 600 | best | 0.9698747265858023 |\n",
    "| 7 | gini | 700 | best | 0.9698747265858023 |\n",
    "| 8 | gini | 800 | best | 0.9698747265858023 |\n",
    "| 9 | gini | 900 | best | 0.9698747265858023 |\n",
    "| 10 | gini | 1000 | best | 0.9698747265858023 |"
   ]
  },
  {
   "cell_type": "markdown",
   "id": "4da1dce0",
   "metadata": {},
   "source": [
    "#### Bucle de 10 arboles variando el criterio (entropy)\n"
   ]
  },
  {
   "cell_type": "code",
   "execution_count": 24,
   "id": "0fede931",
   "metadata": {},
   "outputs": [
    {
     "name": "stdout",
     "output_type": "stream",
     "text": [
      "Se hizo la iteracion:1\n",
      "Accuracy del modelo 1 : 0.970073573275005\n",
      "Se hizo la iteracion:2\n",
      "Accuracy del modelo 2 : 0.970073573275005\n",
      "Se hizo la iteracion:3\n",
      "Accuracy del modelo 3 : 0.970073573275005\n",
      "Se hizo la iteracion:4\n",
      "Accuracy del modelo 4 : 0.970073573275005\n",
      "Se hizo la iteracion:5\n",
      "Accuracy del modelo 5 : 0.970073573275005\n",
      "Se hizo la iteracion:6\n",
      "Accuracy del modelo 6 : 0.970073573275005\n",
      "Se hizo la iteracion:7\n",
      "Accuracy del modelo 7 : 0.970073573275005\n",
      "Se hizo la iteracion:8\n",
      "Accuracy del modelo 8 : 0.970073573275005\n",
      "Se hizo la iteracion:9\n",
      "Accuracy del modelo 9 : 0.970073573275005\n",
      "Se hizo la iteracion:10\n",
      "Accuracy del modelo 10 : 0.970073573275005\n"
     ]
    },
    {
     "data": {
      "image/png": "[encoded data removed]",
      "text/plain": [
       "<Figure size 432x288 with 1 Axes>"
      ]
     },
     "metadata": {
      "needs_background": "light"
     },
     "output_type": "display_data"
    }
   ],
   "source": [
    "for i in range(1, 11):\n",
    "    modeloN = tree.DecisionTreeClassifier(criterion = 'entropy', max_depth=100*i, splitter = \"best\", random_state= 123)\n",
    "    modeloN.fit(x_entrenamiento, y_entrenamiento)\n",
    "    scoresN = cross_val_score(modeloN, x_entrenamiento, y_entrenamiento, cv = 5, scoring = 'accuracy')\n",
    "    ## print(scoresN)\n",
    "    ## print(scoresN.mean())\n",
    "    tree.plot_tree(modeloN)\n",
    "    tree.export_graphviz(decision_tree = modeloN, class_names= True, out_file = \"./Punto 6/Arbol modelo \" + str(i) + \".dot\")\n",
    "    print(\"Se hizo la iteracion:\" + str(i))\n",
    "    \n",
    "    ## Accuracy del modelo    \n",
    "    x_pruebas = full_pipeline.transform(c_pruebas)\n",
    "    y_pred = modeloN.predict(x_pruebas)\n",
    "\n",
    "    print(\"Accuracy del modelo \" + str(i) + \" :\", accuracy_score(y_pruebas, y_pred))"
   ]
  },
  {
   "cell_type": "markdown",
   "id": "17337243",
   "metadata": {},
   "source": [
    "#### Tabla de resultados"
   ]
  },
  {
   "cell_type": "markdown",
   "id": "97594554",
   "metadata": {},
   "source": [
    "||| Accuracy obtenido |||\n",
    "| :--- | :----: | :----: | :----:  | ---: |\n",
    "| __Modelo__ | __Criterio__ | __MaxDepth__ | __Splitter__ | __*Accuracy*__|\n",
    "| 1 | entropy | 100 | best | 0.970073573275005 |\n",
    "| 2 | entropy | 200 | best | 0.970073573275005 |\n",
    "| 3 | entropy | 300 | best | 0.970073573275005 |\n",
    "| 4 | entropy | 400 | best | 0.970073573275005 |\n",
    "| 5 | entropy | 500 | best | 0.970073573275005 |\n",
    "| 6 | entropy | 600 | best | 0.970073573275005 |\n",
    "| 7 | entropy | 700 | best | 0.970073573275005 |\n",
    "| 8 | entropy | 800 | best | 0.970073573275005 |\n",
    "| 9 | entropy | 900 | best | 0.970073573275005 |\n",
    "| 10 | entropy | 1000 | best | 0.970073573275005 |"
   ]
  },
  {
   "cell_type": "markdown",
   "id": "ae8fbbfd",
   "metadata": {},
   "source": [
    "#### Bucle de 10 arboles variando el criterio (entropy) y splitter (random)"
   ]
  },
  {
   "cell_type": "code",
   "execution_count": 25,
   "id": "cc714a7b",
   "metadata": {},
   "outputs": [
    {
     "name": "stdout",
     "output_type": "stream",
     "text": [
      "Se hizo la iteracion:1\n",
      "Accuracy del modelo 1 : 0.9721614635116326\n",
      "Se hizo la iteracion:2\n",
      "Accuracy del modelo 2 : 0.9721614635116326\n",
      "Se hizo la iteracion:3\n",
      "Accuracy del modelo 3 : 0.9721614635116326\n",
      "Se hizo la iteracion:4\n",
      "Accuracy del modelo 4 : 0.9721614635116326\n",
      "Se hizo la iteracion:5\n",
      "Accuracy del modelo 5 : 0.9721614635116326\n",
      "Se hizo la iteracion:6\n",
      "Accuracy del modelo 6 : 0.9721614635116326\n",
      "Se hizo la iteracion:7\n",
      "Accuracy del modelo 7 : 0.9721614635116326\n",
      "Se hizo la iteracion:8\n",
      "Accuracy del modelo 8 : 0.9721614635116326\n",
      "Se hizo la iteracion:9\n",
      "Accuracy del modelo 9 : 0.9721614635116326\n",
      "Se hizo la iteracion:10\n",
      "Accuracy del modelo 10 : 0.9721614635116326\n"
     ]
    },
    {
     "data": {
      "image/png": "[encoded data removed]",
      "text/plain": [
       "<Figure size 432x288 with 1 Axes>"
      ]
     },
     "metadata": {
      "needs_background": "light"
     },
     "output_type": "display_data"
    }
   ],
   "source": [
    "for i in range(1, 11):\n",
    "    modeloN = tree.DecisionTreeClassifier(criterion = 'entropy', max_depth=100*i, splitter = \"random\", random_state= 123)\n",
    "    modeloN.fit(x_entrenamiento, y_entrenamiento)\n",
    "    scoresN = cross_val_score(modeloN, x_entrenamiento, y_entrenamiento, cv = 5, scoring = 'accuracy')\n",
    "    ## print(scoresN)\n",
    "    ## print(scoresN.mean())\n",
    "    tree.plot_tree(modeloN)\n",
    "    tree.export_graphviz(decision_tree = modeloN, class_names= True, out_file = \"./Punto 7/Arbol modelo \" + str(i) + \".dot\")\n",
    "    print(\"Se hizo la iteracion:\" + str(i))\n",
    "    \n",
    "    ## Accuracy del modelo    \n",
    "    x_pruebas = full_pipeline.transform(c_pruebas)\n",
    "    y_pred = modeloN.predict(x_pruebas)\n",
    "\n",
    "    print(\"Accuracy del modelo \" + str(i) + \" :\", accuracy_score(y_pruebas, y_pred))"
   ]
  },
  {
   "cell_type": "markdown",
   "id": "f1855b27",
   "metadata": {},
   "source": [
    "#### Tabla de resultados"
   ]
  },
  {
   "cell_type": "markdown",
   "id": "a568ad99",
   "metadata": {},
   "source": [
    "||| Accuracy obtenido |||\n",
    "| :--- | :----: | :----: | :----:  | ---: |\n",
    "| __Modelo__ | __Criterio__ | __MaxDepth__ | __Splitter__ | __*Accuracy*__|\n",
    "| 1 | entropy | 100 | random | 0.9721614635116326 |\n",
    "| 2 | entropy | 200 | random | 0.9721614635116326 |\n",
    "| 3 | entropy | 300 | random | 0.9721614635116326 |\n",
    "| 4 | entropy | 400 | random | 0.9721614635116326 |\n",
    "| 5 | entropy | 500 | random | 0.9721614635116326 |\n",
    "| 6 | entropy | 600 | random | 0.9721614635116326 |\n",
    "| 7 | entropy | 700 | random | 0.9721614635116326 |\n",
    "| 8 | entropy | 800 | random | 0.9721614635116326 |\n",
    "| 9 | entropy | 900 | random | 0.9721614635116326 |\n",
    "| 10 | entropy | 1000 | random | 0.9721614635116326 |"
   ]
  },
  {
   "cell_type": "markdown",
   "id": "47797136",
   "metadata": {},
   "source": [
    "### Hiperparametros con mayor accuracy\n",
    "#### Los hiperparametros que permitieron obtener el arbol con mayor accuracy fue en el que el hiperparametro *criterio* fue \"entropy\" y el *splitter* fue \"random\"."
   ]
  },
  {
   "cell_type": "markdown",
   "id": "9bf9d15c",
   "metadata": {},
   "source": [
    "### Seleccionar hiperparametros distintos de la documentacion"
   ]
  },
  {
   "cell_type": "markdown",
   "id": "882f840f",
   "metadata": {},
   "source": [
    "#### Hiperparametro: *max_features* con el valor de *auto*"
   ]
  },
  {
   "cell_type": "code",
   "execution_count": 26,
   "id": "8f76714b",
   "metadata": {},
   "outputs": [
    {
     "name": "stdout",
     "output_type": "stream",
     "text": [
      "Se hizo la iteracion:1\n",
      "Accuracy del modelo 1 : 0.9655000994233446\n",
      "Se hizo la iteracion:2\n",
      "Accuracy del modelo 2 : 0.9655000994233446\n",
      "Se hizo la iteracion:3\n",
      "Accuracy del modelo 3 : 0.9655000994233446\n",
      "Se hizo la iteracion:4\n",
      "Accuracy del modelo 4 : 0.9655000994233446\n",
      "Se hizo la iteracion:5\n",
      "Accuracy del modelo 5 : 0.9655000994233446\n",
      "Se hizo la iteracion:6\n",
      "Accuracy del modelo 6 : 0.9655000994233446\n",
      "Se hizo la iteracion:7\n",
      "Accuracy del modelo 7 : 0.9655000994233446\n",
      "Se hizo la iteracion:8\n",
      "Accuracy del modelo 8 : 0.9655000994233446\n",
      "Se hizo la iteracion:9\n",
      "Accuracy del modelo 9 : 0.9655000994233446\n",
      "Se hizo la iteracion:10\n",
      "Accuracy del modelo 10 : 0.9655000994233446\n"
     ]
    },
    {
     "data": {
      "image/png": "[encoded data removed]",
      "text/plain": [
       "<Figure size 432x288 with 1 Axes>"
      ]
     },
     "metadata": {
      "needs_background": "light"
     },
     "output_type": "display_data"
    }
   ],
   "source": [
    "for i in range(1, 11):\n",
    "    modeloN = tree.DecisionTreeClassifier(criterion = 'entropy', max_depth=100*i, splitter = \"random\", random_state= 123, max_features = \"auto\")\n",
    "    modeloN.fit(x_entrenamiento, y_entrenamiento)\n",
    "    scoresN = cross_val_score(modeloN, x_entrenamiento, y_entrenamiento, cv = 5, scoring = 'accuracy')\n",
    "    ## print(scoresN)\n",
    "    ## print(scoresN.mean())\n",
    "    tree.plot_tree(modeloN)\n",
    "    tree.export_graphviz(decision_tree = modeloN, class_names= True, out_file = \"./max_features_auto/Arbol modelo \" + str(i) + \".dot\")\n",
    "    print(\"Se hizo la iteracion:\" + str(i))\n",
    "    \n",
    "    ## Accuracy del modelo    \n",
    "    x_pruebas = full_pipeline.transform(c_pruebas)\n",
    "    y_pred = modeloN.predict(x_pruebas)\n",
    "\n",
    "    print(\"Accuracy del modelo \" + str(i) + \" :\", accuracy_score(y_pruebas, y_pred))"
   ]
  },
  {
   "cell_type": "markdown",
   "id": "8fbf11ca",
   "metadata": {},
   "source": [
    "||| Accuracy obtenido ||||\n",
    "| :--- | :----: | :----: | :----:  | :----: | ---: |\n",
    "| __Modelo__ | __Criterio__ | __MaxDepth__ | __Splitter__ | __max_features__ | __*Accuracy*__ |\n",
    "| 1 | entropy | 100 | random | auto | 0.9655000994233446 |\n",
    "| 2 | entropy | 200 | random | auto | 0.9655000994233446 |\n",
    "| 3 | entropy | 300 | random | auto | 0.9655000994233446 |\n",
    "| 4 | entropy | 400 | random | auto | 0.9655000994233446 |\n",
    "| 5 | entropy | 500 | random | auto | 0.9655000994233446 |\n",
    "| 6 | entropy | 600 | random | auto | 0.9655000994233446 |\n",
    "| 7 | entropy | 700 | random | auto | 0.9655000994233446 |\n",
    "| 8 | entropy | 800 | random | auto | 0.9655000994233446 |\n",
    "| 9 | entropy | 900 | random | auto | 0.9655000994233446 |\n",
    "| 10 | entropy | 1000 | random | auto | 0.9655000994233446 |"
   ]
  },
  {
   "cell_type": "markdown",
   "id": "713b81e7",
   "metadata": {},
   "source": [
    "#### Hiperparametro: *max_features* con el valor de *log2*"
   ]
  },
  {
   "cell_type": "code",
   "execution_count": 27,
   "id": "3dfd54d5",
   "metadata": {
    "scrolled": true
   },
   "outputs": [
    {
     "name": "stdout",
     "output_type": "stream",
     "text": [
      "Se hizo la iteracion:1\n",
      "Accuracy del modelo 1 : 0.9647047126665341\n",
      "Se hizo la iteracion:2\n",
      "Accuracy del modelo 2 : 0.9647047126665341\n",
      "Se hizo la iteracion:3\n",
      "Accuracy del modelo 3 : 0.9647047126665341\n",
      "Se hizo la iteracion:4\n",
      "Accuracy del modelo 4 : 0.9647047126665341\n",
      "Se hizo la iteracion:5\n",
      "Accuracy del modelo 5 : 0.9647047126665341\n",
      "Se hizo la iteracion:6\n",
      "Accuracy del modelo 6 : 0.9647047126665341\n",
      "Se hizo la iteracion:7\n",
      "Accuracy del modelo 7 : 0.9647047126665341\n",
      "Se hizo la iteracion:8\n",
      "Accuracy del modelo 8 : 0.9647047126665341\n",
      "Se hizo la iteracion:9\n",
      "Accuracy del modelo 9 : 0.9647047126665341\n",
      "Se hizo la iteracion:10\n",
      "Accuracy del modelo 10 : 0.9647047126665341\n"
     ]
    },
    {
     "data": {
      "image/png": "[encoded data removed]",
      "text/plain": [
       "<Figure size 432x288 with 1 Axes>"
      ]
     },
     "metadata": {
      "needs_background": "light"
     },
     "output_type": "display_data"
    }
   ],
   "source": [
    "for i in range(1, 11):\n",
    "    modeloN = tree.DecisionTreeClassifier(criterion = 'entropy', max_depth=100*i, splitter = \"random\", random_state= 123, max_features = \"log2\")\n",
    "    modeloN.fit(x_entrenamiento, y_entrenamiento)\n",
    "    scoresN = cross_val_score(modeloN, x_entrenamiento, y_entrenamiento, cv = 5, scoring = 'accuracy')\n",
    "    ## print(scoresN)\n",
    "    ## print(scoresN.mean())\n",
    "    tree.plot_tree(modeloN)\n",
    "    tree.export_graphviz(decision_tree = modeloN, class_names= True, out_file = \"./max_features_log2/Arbol modelo \" + str(i) + \".dot\")\n",
    "    print(\"Se hizo la iteracion:\" + str(i))\n",
    "    \n",
    "    ## Accuracy del modelo    \n",
    "    x_pruebas = full_pipeline.transform(c_pruebas)\n",
    "    y_pred = modeloN.predict(x_pruebas)\n",
    "\n",
    "    print(\"Accuracy del modelo \" + str(i) + \" :\", accuracy_score(y_pruebas, y_pred))"
   ]
  },
  {
   "cell_type": "markdown",
   "id": "33aab483",
   "metadata": {},
   "source": [
    "||| Accuracy obtenido ||||\n",
    "| :--- | :----: | :----: | :----:  | :----: | ---: |\n",
    "| __Modelo__ | __Criterio__ | __MaxDepth__ | __Splitter__ | __max_features__ | __*Accuracy*__ |\n",
    "| 1 | entropy | 100 | random | log2 | 0.9647047126665341 |\n",
    "| 2 | entropy | 200 | random | log2 | 0.9647047126665341 |\n",
    "| 3 | entropy | 300 | random | log2 | 0.9647047126665341 |\n",
    "| 4 | entropy | 400 | random | log2 | 0.9647047126665341 |\n",
    "| 5 | entropy | 500 | random | log2 | 0.9647047126665341 |\n",
    "| 6 | entropy | 600 | random | log2 | 0.9647047126665341 |\n",
    "| 7 | entropy | 700 | random | log2 | 0.9647047126665341 |\n",
    "| 8 | entropy | 800 | random | log2 | 0.9647047126665341 |\n",
    "| 9 | entropy | 900 | random | log2 | 0.9647047126665341 |\n",
    "| 10 | entropy | 1000 | random | log2 | 0.9647047126665341 |"
   ]
  },
  {
   "cell_type": "markdown",
   "id": "ffdf2a33",
   "metadata": {},
   "source": [
    "Al agregar un nuevo parametro de max_features no se ve una mejoria en la exactitud del modelo, respecto al original de parametros splitter y random "
   ]
  },
  {
   "cell_type": "markdown",
   "id": "cec854f6",
   "metadata": {},
   "source": [
    "### Clasificador Bayesiano"
   ]
  },
  {
   "cell_type": "code",
   "execution_count": 28,
   "id": "c55d5c96",
   "metadata": {},
   "outputs": [],
   "source": [
    "from sklearn.naive_bayes import GaussianNB\n",
    "from sklearn.model_selection import cross_val_score"
   ]
  },
  {
   "cell_type": "code",
   "execution_count": 29,
   "id": "afd82cf7",
   "metadata": {},
   "outputs": [
    {
     "data": {
      "text/plain": [
       "0.93673557899752"
      ]
     },
     "execution_count": 29,
     "metadata": {},
     "output_type": "execute_result"
    }
   ],
   "source": [
    "modelo1 = GaussianNB(var_smoothing=0.001)\n",
    "modelo1.fit(x_entrenamiento, y_entrenamiento)\n",
    "scores1 = cross_val_score(modelo1, x_entrenamiento, y_entrenamiento, cv=5,scoring='accuracy')\n",
    "scores1.mean()"
   ]
  },
  {
   "cell_type": "markdown",
   "id": "5d68b07e",
   "metadata": {},
   "source": [
    "#### Matriz de confusion"
   ]
  },
  {
   "cell_type": "code",
   "execution_count": 41,
   "id": "8d34b177",
   "metadata": {},
   "outputs": [],
   "source": [
    "x_prueba = full_pipeline.transform(c_pruebas)\n",
    "\n",
    "y_prediccion = modelo1.predict(x_prueba)\n",
    "\n",
    "y_pruebas = c_pruebas[\"winner\"]"
   ]
  },
  {
   "cell_type": "code",
   "execution_count": 46,
   "id": "3e1bbf0c",
   "metadata": {},
   "outputs": [
    {
     "name": "stdout",
     "output_type": "stream",
     "text": [
      "0.9362696361105588\n"
     ]
    }
   ],
   "source": [
    "print(accuracy_score(y_pruebas, y_prediccion))"
   ]
  },
  {
   "cell_type": "code",
   "execution_count": 42,
   "id": "e233c85b",
   "metadata": {},
   "outputs": [
    {
     "name": "stdout",
     "output_type": "stream",
     "text": [
      "[[4834  296]\n",
      " [ 345 4583]]\n"
     ]
    }
   ],
   "source": [
    "matriz_confusion = confusion_matrix(y_pruebas, y_prediccion)\n",
    "print(matriz_confusion)"
   ]
  },
  {
   "cell_type": "code",
   "execution_count": 43,
   "id": "081dccfe",
   "metadata": {},
   "outputs": [
    {
     "data": {
      "image/png": "[encoded data removed]",
      "text/plain": [
       "<Figure size 432x288 with 2 Axes>"
      ]
     },
     "metadata": {
      "needs_background": "light"
     },
     "output_type": "display_data"
    }
   ],
   "source": [
    "ax = plt.subplot()\n",
    "sns.heatmap(matriz_confusion, annot=True, ax = ax, fmt='d')\n",
    "\n",
    "ax.set_xlabel('Etiquetas Estimadas')\n",
    "ax.set_ylabel('Etiquetas reales') \n",
    "ax.set_title('Matriz de confusión - Ganadores del LoL') \n",
    "ax.xaxis.set_ticklabels(['Negative=0', 'Positive=1'])\n",
    "ax.yaxis.set_ticklabels(['Negative=0', 'Positive=1'])\n",
    "plt.show()"
   ]
  },
  {
   "cell_type": "markdown",
   "id": "42348db1",
   "metadata": {},
   "source": [
    "#### Conclusion\n",
    "Se hace notorio que el modelo Gauss Bayesiano es el rapido a la hora de crearse sin embargo tiene una considerable perdida de precision a la hora de darse cuenta quien perdio y quien gano la partida, volviendolo el mas inexacto de los tres probados. Por otro lado uno de nuestros modelos de redes neuronales de parametros **activation='tanh',solver='adam', alpha=1e-5,hidden_layer_sizes=(5,20,1,10), random_state=123, beta_1 = 0.5**\n",
    "resulto ser el mas exacto con una presicion cercana al 0.982, en ultima instancia el modelo de arboles variando entropy y splitter se procesa mas rapido en comparacion al de redes neuronales a costa de algo de precision con una precision cercana al 0.972, existe una perdida de precision relativa al 0.82%\n"
   ]
  },
  {
   "cell_type": "code",
   "execution_count": null,
   "id": "306f6e8e",
   "metadata": {},
   "outputs": [],
   "source": []
  }
 ],
 "metadata": {
  "kernelspec": {
   "display_name": "Python 3 (ipykernel)",
   "language": "python",
   "name": "python3"
  },
  "language_info": {
   "codemirror_mode": {
    "name": "ipython",
    "version": 3
   },
   "file_extension": ".py",
   "mimetype": "text/x-python",
   "name": "python",
   "nbconvert_exporter": "python",
   "pygments_lexer": "ipython3",
   "version": "3.10.4"
  }
 },
 "nbformat": 4,
 "nbformat_minor": 5
}
