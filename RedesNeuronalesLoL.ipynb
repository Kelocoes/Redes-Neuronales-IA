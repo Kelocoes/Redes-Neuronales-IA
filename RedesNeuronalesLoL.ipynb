{
 "cells": [
  {
   "cell_type": "markdown",
   "id": "95e328a3",
   "metadata": {},
   "source": [
    "### Informe machine learning\n",
    "#### Introducción a inteligencia artifical\n",
    "### Presentado por:\n",
    "#### Kevin David Rodríguez Belalcazar - 1841109\n",
    "#### Julián Andrés Salamanca Tellez - 1841654\n",
    "#### Andrés Felipe Giron Perez - 1842504"
   ]
  },
  {
   "cell_type": "code",
   "execution_count": 37,
   "id": "7b95c11b",
   "metadata": {},
   "outputs": [],
   "source": [
    "import sklearn\n",
    "import numpy as np\n",
    "import pandas as pd\n",
    "from sklearn.model_selection import train_test_split"
   ]
  },
  {
   "cell_type": "markdown",
   "id": "cbd200cf",
   "metadata": {},
   "source": [
    "Se cargar el archivo y se separa en entrenamiento y prueba"
   ]
  },
  {
   "cell_type": "code",
   "execution_count": 38,
   "id": "7b4943ad",
   "metadata": {},
   "outputs": [
    {
     "name": "stdout",
     "output_type": "stream",
     "text": [
      "50286 40228 10058\n"
     ]
    }
   ],
   "source": [
    "datos = pd.read_csv('games.csv', sep=';')\n",
    "\n",
    "cLargo = len(datos) \n",
    "cEntrenamiento = int(cLargo*0.8) # 80% para entrenar y 20% para probar\n",
    "cPruebas = cLargo - cEntrenamiento\n",
    "print(cLargo, cEntrenamiento, cPruebas)\n",
    "c_entrenamiento, c_pruebas = train_test_split(datos, train_size = cEntrenamiento,  test_size = cPruebas)"
   ]
  },
  {
   "cell_type": "code",
   "execution_count": 39,
   "id": "4e9dfb11",
   "metadata": {},
   "outputs": [
    {
     "data": {
      "text/plain": [
       "(40228, 18)"
      ]
     },
     "execution_count": 39,
     "metadata": {},
     "output_type": "execute_result"
    }
   ],
   "source": [
    "c_entrenamiento.shape"
   ]
  },
  {
   "cell_type": "code",
   "execution_count": 40,
   "id": "21248c2a",
   "metadata": {},
   "outputs": [
    {
     "data": {
      "text/html": [
       "<div>\n",
       "<style scoped>\n",
       "    .dataframe tbody tr th:only-of-type {\n",
       "        vertical-align: middle;\n",
       "    }\n",
       "\n",
       "    .dataframe tbody tr th {\n",
       "        vertical-align: top;\n",
       "    }\n",
       "\n",
       "    .dataframe thead th {\n",
       "        text-align: right;\n",
       "    }\n",
       "</style>\n",
       "<table border=\"1\" class=\"dataframe\">\n",
       "  <thead>\n",
       "    <tr style=\"text-align: right;\">\n",
       "      <th></th>\n",
       "      <th>gameDuration</th>\n",
       "      <th>firstBlood</th>\n",
       "      <th>firstTower</th>\n",
       "      <th>firstInhibitor</th>\n",
       "      <th>firstBaron</th>\n",
       "      <th>firstDragon</th>\n",
       "      <th>firstRiftHerald</th>\n",
       "      <th>t1_towerKills</th>\n",
       "      <th>t1_inhibitorKills</th>\n",
       "      <th>t1_baronKills</th>\n",
       "      <th>t1_dragonKills</th>\n",
       "      <th>t1_riftHeraldKills</th>\n",
       "      <th>t2_towerKills</th>\n",
       "      <th>t2_inhibitorKills</th>\n",
       "      <th>t2_baronKills</th>\n",
       "      <th>t2_dragonKills</th>\n",
       "      <th>t2_riftHeraldKills</th>\n",
       "      <th>winner</th>\n",
       "    </tr>\n",
       "  </thead>\n",
       "  <tbody>\n",
       "    <tr>\n",
       "      <th>4564</th>\n",
       "      <td>1356</td>\n",
       "      <td>1</td>\n",
       "      <td>2</td>\n",
       "      <td>1</td>\n",
       "      <td>0</td>\n",
       "      <td>1</td>\n",
       "      <td>0</td>\n",
       "      <td>6</td>\n",
       "      <td>1</td>\n",
       "      <td>0</td>\n",
       "      <td>2</td>\n",
       "      <td>0</td>\n",
       "      <td>1</td>\n",
       "      <td>0</td>\n",
       "      <td>0</td>\n",
       "      <td>0</td>\n",
       "      <td>0</td>\n",
       "      <td>1</td>\n",
       "    </tr>\n",
       "    <tr>\n",
       "      <th>35250</th>\n",
       "      <td>1868</td>\n",
       "      <td>1</td>\n",
       "      <td>1</td>\n",
       "      <td>1</td>\n",
       "      <td>1</td>\n",
       "      <td>1</td>\n",
       "      <td>1</td>\n",
       "      <td>11</td>\n",
       "      <td>4</td>\n",
       "      <td>1</td>\n",
       "      <td>2</td>\n",
       "      <td>1</td>\n",
       "      <td>3</td>\n",
       "      <td>0</td>\n",
       "      <td>0</td>\n",
       "      <td>1</td>\n",
       "      <td>0</td>\n",
       "      <td>1</td>\n",
       "    </tr>\n",
       "    <tr>\n",
       "      <th>44937</th>\n",
       "      <td>1268</td>\n",
       "      <td>1</td>\n",
       "      <td>1</td>\n",
       "      <td>1</td>\n",
       "      <td>0</td>\n",
       "      <td>1</td>\n",
       "      <td>2</td>\n",
       "      <td>11</td>\n",
       "      <td>3</td>\n",
       "      <td>0</td>\n",
       "      <td>2</td>\n",
       "      <td>0</td>\n",
       "      <td>0</td>\n",
       "      <td>0</td>\n",
       "      <td>0</td>\n",
       "      <td>0</td>\n",
       "      <td>1</td>\n",
       "      <td>1</td>\n",
       "    </tr>\n",
       "    <tr>\n",
       "      <th>45058</th>\n",
       "      <td>1728</td>\n",
       "      <td>1</td>\n",
       "      <td>1</td>\n",
       "      <td>1</td>\n",
       "      <td>1</td>\n",
       "      <td>1</td>\n",
       "      <td>2</td>\n",
       "      <td>7</td>\n",
       "      <td>1</td>\n",
       "      <td>1</td>\n",
       "      <td>3</td>\n",
       "      <td>0</td>\n",
       "      <td>2</td>\n",
       "      <td>0</td>\n",
       "      <td>0</td>\n",
       "      <td>1</td>\n",
       "      <td>1</td>\n",
       "      <td>1</td>\n",
       "    </tr>\n",
       "    <tr>\n",
       "      <th>32089</th>\n",
       "      <td>2231</td>\n",
       "      <td>2</td>\n",
       "      <td>2</td>\n",
       "      <td>2</td>\n",
       "      <td>2</td>\n",
       "      <td>1</td>\n",
       "      <td>0</td>\n",
       "      <td>5</td>\n",
       "      <td>0</td>\n",
       "      <td>0</td>\n",
       "      <td>3</td>\n",
       "      <td>0</td>\n",
       "      <td>8</td>\n",
       "      <td>2</td>\n",
       "      <td>1</td>\n",
       "      <td>1</td>\n",
       "      <td>0</td>\n",
       "      <td>2</td>\n",
       "    </tr>\n",
       "  </tbody>\n",
       "</table>\n",
       "</div>"
      ],
      "text/plain": [
       "       gameDuration  firstBlood  firstTower  firstInhibitor  firstBaron  \\\n",
       "4564           1356           1           2               1           0   \n",
       "35250          1868           1           1               1           1   \n",
       "44937          1268           1           1               1           0   \n",
       "45058          1728           1           1               1           1   \n",
       "32089          2231           2           2               2           2   \n",
       "\n",
       "       firstDragon  firstRiftHerald  t1_towerKills  t1_inhibitorKills  \\\n",
       "4564             1                0              6                  1   \n",
       "35250            1                1             11                  4   \n",
       "44937            1                2             11                  3   \n",
       "45058            1                2              7                  1   \n",
       "32089            1                0              5                  0   \n",
       "\n",
       "       t1_baronKills  t1_dragonKills  t1_riftHeraldKills  t2_towerKills  \\\n",
       "4564               0               2                   0              1   \n",
       "35250              1               2                   1              3   \n",
       "44937              0               2                   0              0   \n",
       "45058              1               3                   0              2   \n",
       "32089              0               3                   0              8   \n",
       "\n",
       "       t2_inhibitorKills  t2_baronKills  t2_dragonKills  t2_riftHeraldKills  \\\n",
       "4564                   0              0               0                   0   \n",
       "35250                  0              0               1                   0   \n",
       "44937                  0              0               0                   1   \n",
       "45058                  0              0               1                   1   \n",
       "32089                  2              1               1                   0   \n",
       "\n",
       "       winner  \n",
       "4564        1  \n",
       "35250       1  \n",
       "44937       1  \n",
       "45058       1  \n",
       "32089       2  "
      ]
     },
     "execution_count": 40,
     "metadata": {},
     "output_type": "execute_result"
    }
   ],
   "source": [
    "c_entrenamiento.head()"
   ]
  },
  {
   "cell_type": "code",
   "execution_count": 41,
   "id": "24899748",
   "metadata": {},
   "outputs": [
    {
     "name": "stdout",
     "output_type": "stream",
     "text": [
      "<class 'pandas.core.frame.DataFrame'>\n",
      "Int64Index: 40228 entries, 4564 to 37766\n",
      "Data columns (total 18 columns):\n",
      " #   Column              Non-Null Count  Dtype\n",
      "---  ------              --------------  -----\n",
      " 0   gameDuration        40228 non-null  int64\n",
      " 1   firstBlood          40228 non-null  int64\n",
      " 2   firstTower          40228 non-null  int64\n",
      " 3   firstInhibitor      40228 non-null  int64\n",
      " 4   firstBaron          40228 non-null  int64\n",
      " 5   firstDragon         40228 non-null  int64\n",
      " 6   firstRiftHerald     40228 non-null  int64\n",
      " 7   t1_towerKills       40228 non-null  int64\n",
      " 8   t1_inhibitorKills   40228 non-null  int64\n",
      " 9   t1_baronKills       40228 non-null  int64\n",
      " 10  t1_dragonKills      40228 non-null  int64\n",
      " 11  t1_riftHeraldKills  40228 non-null  int64\n",
      " 12  t2_towerKills       40228 non-null  int64\n",
      " 13  t2_inhibitorKills   40228 non-null  int64\n",
      " 14  t2_baronKills       40228 non-null  int64\n",
      " 15  t2_dragonKills      40228 non-null  int64\n",
      " 16  t2_riftHeraldKills  40228 non-null  int64\n",
      " 17  winner              40228 non-null  int64\n",
      "dtypes: int64(18)\n",
      "memory usage: 5.8 MB\n"
     ]
    }
   ],
   "source": [
    "c_entrenamiento.info()"
   ]
  },
  {
   "cell_type": "code",
   "execution_count": 42,
   "id": "bf416f5d",
   "metadata": {},
   "outputs": [
    {
     "data": {
      "text/html": [
       "<div>\n",
       "<style scoped>\n",
       "    .dataframe tbody tr th:only-of-type {\n",
       "        vertical-align: middle;\n",
       "    }\n",
       "\n",
       "    .dataframe tbody tr th {\n",
       "        vertical-align: top;\n",
       "    }\n",
       "\n",
       "    .dataframe thead th {\n",
       "        text-align: right;\n",
       "    }\n",
       "</style>\n",
       "<table border=\"1\" class=\"dataframe\">\n",
       "  <thead>\n",
       "    <tr style=\"text-align: right;\">\n",
       "      <th></th>\n",
       "      <th>gameDuration</th>\n",
       "      <th>firstBlood</th>\n",
       "      <th>firstTower</th>\n",
       "      <th>firstInhibitor</th>\n",
       "      <th>firstBaron</th>\n",
       "      <th>firstDragon</th>\n",
       "      <th>firstRiftHerald</th>\n",
       "      <th>t1_towerKills</th>\n",
       "      <th>t1_inhibitorKills</th>\n",
       "      <th>t1_baronKills</th>\n",
       "      <th>t1_dragonKills</th>\n",
       "      <th>t1_riftHeraldKills</th>\n",
       "      <th>t2_towerKills</th>\n",
       "      <th>t2_inhibitorKills</th>\n",
       "      <th>t2_baronKills</th>\n",
       "      <th>t2_dragonKills</th>\n",
       "      <th>t2_riftHeraldKills</th>\n",
       "      <th>winner</th>\n",
       "    </tr>\n",
       "  </thead>\n",
       "  <tbody>\n",
       "    <tr>\n",
       "      <th>count</th>\n",
       "      <td>40228.000000</td>\n",
       "      <td>40228.000000</td>\n",
       "      <td>40228.000000</td>\n",
       "      <td>40228.000000</td>\n",
       "      <td>40228.000000</td>\n",
       "      <td>40228.000000</td>\n",
       "      <td>40228.000000</td>\n",
       "      <td>40228.000000</td>\n",
       "      <td>40228.000000</td>\n",
       "      <td>40228.000000</td>\n",
       "      <td>40228.000000</td>\n",
       "      <td>40228.000000</td>\n",
       "      <td>40228.000000</td>\n",
       "      <td>40228.000000</td>\n",
       "      <td>40228.000000</td>\n",
       "      <td>40228.000000</td>\n",
       "      <td>40228.000000</td>\n",
       "      <td>40228.000000</td>\n",
       "    </tr>\n",
       "    <tr>\n",
       "      <th>mean</th>\n",
       "      <td>1873.357363</td>\n",
       "      <td>1.488217</td>\n",
       "      <td>1.483991</td>\n",
       "      <td>1.342125</td>\n",
       "      <td>0.951029</td>\n",
       "      <td>1.478945</td>\n",
       "      <td>0.749428</td>\n",
       "      <td>5.841802</td>\n",
       "      <td>1.041613</td>\n",
       "      <td>0.381177</td>\n",
       "      <td>1.420578</td>\n",
       "      <td>0.257930</td>\n",
       "      <td>5.688923</td>\n",
       "      <td>1.009148</td>\n",
       "      <td>0.426693</td>\n",
       "      <td>1.441260</td>\n",
       "      <td>0.245749</td>\n",
       "      <td>1.494680</td>\n",
       "    </tr>\n",
       "    <tr>\n",
       "      <th>std</th>\n",
       "      <td>450.474431</td>\n",
       "      <td>0.499867</td>\n",
       "      <td>0.500495</td>\n",
       "      <td>0.651384</td>\n",
       "      <td>0.838984</td>\n",
       "      <td>0.530314</td>\n",
       "      <td>0.824197</td>\n",
       "      <td>3.733088</td>\n",
       "      <td>1.269904</td>\n",
       "      <td>0.587509</td>\n",
       "      <td>1.201287</td>\n",
       "      <td>0.437501</td>\n",
       "      <td>3.802829</td>\n",
       "      <td>1.258008</td>\n",
       "      <td>0.618023</td>\n",
       "      <td>1.219698</td>\n",
       "      <td>0.430536</td>\n",
       "      <td>0.499978</td>\n",
       "    </tr>\n",
       "    <tr>\n",
       "      <th>min</th>\n",
       "      <td>613.000000</td>\n",
       "      <td>1.000000</td>\n",
       "      <td>0.000000</td>\n",
       "      <td>0.000000</td>\n",
       "      <td>0.000000</td>\n",
       "      <td>0.000000</td>\n",
       "      <td>0.000000</td>\n",
       "      <td>0.000000</td>\n",
       "      <td>0.000000</td>\n",
       "      <td>0.000000</td>\n",
       "      <td>0.000000</td>\n",
       "      <td>0.000000</td>\n",
       "      <td>0.000000</td>\n",
       "      <td>0.000000</td>\n",
       "      <td>0.000000</td>\n",
       "      <td>0.000000</td>\n",
       "      <td>0.000000</td>\n",
       "      <td>1.000000</td>\n",
       "    </tr>\n",
       "    <tr>\n",
       "      <th>25%</th>\n",
       "      <td>1557.000000</td>\n",
       "      <td>1.000000</td>\n",
       "      <td>1.000000</td>\n",
       "      <td>1.000000</td>\n",
       "      <td>0.000000</td>\n",
       "      <td>1.000000</td>\n",
       "      <td>0.000000</td>\n",
       "      <td>2.000000</td>\n",
       "      <td>0.000000</td>\n",
       "      <td>0.000000</td>\n",
       "      <td>0.000000</td>\n",
       "      <td>0.000000</td>\n",
       "      <td>2.000000</td>\n",
       "      <td>0.000000</td>\n",
       "      <td>0.000000</td>\n",
       "      <td>0.000000</td>\n",
       "      <td>0.000000</td>\n",
       "      <td>1.000000</td>\n",
       "    </tr>\n",
       "    <tr>\n",
       "      <th>50%</th>\n",
       "      <td>1849.000000</td>\n",
       "      <td>1.000000</td>\n",
       "      <td>1.000000</td>\n",
       "      <td>1.000000</td>\n",
       "      <td>1.000000</td>\n",
       "      <td>1.000000</td>\n",
       "      <td>1.000000</td>\n",
       "      <td>6.000000</td>\n",
       "      <td>1.000000</td>\n",
       "      <td>0.000000</td>\n",
       "      <td>1.000000</td>\n",
       "      <td>0.000000</td>\n",
       "      <td>6.000000</td>\n",
       "      <td>0.000000</td>\n",
       "      <td>0.000000</td>\n",
       "      <td>1.000000</td>\n",
       "      <td>0.000000</td>\n",
       "      <td>1.000000</td>\n",
       "    </tr>\n",
       "    <tr>\n",
       "      <th>75%</th>\n",
       "      <td>2160.250000</td>\n",
       "      <td>2.000000</td>\n",
       "      <td>2.000000</td>\n",
       "      <td>2.000000</td>\n",
       "      <td>2.000000</td>\n",
       "      <td>2.000000</td>\n",
       "      <td>1.000000</td>\n",
       "      <td>9.000000</td>\n",
       "      <td>2.000000</td>\n",
       "      <td>1.000000</td>\n",
       "      <td>2.000000</td>\n",
       "      <td>1.000000</td>\n",
       "      <td>9.000000</td>\n",
       "      <td>2.000000</td>\n",
       "      <td>1.000000</td>\n",
       "      <td>2.000000</td>\n",
       "      <td>0.000000</td>\n",
       "      <td>2.000000</td>\n",
       "    </tr>\n",
       "    <tr>\n",
       "      <th>max</th>\n",
       "      <td>4728.000000</td>\n",
       "      <td>2.000000</td>\n",
       "      <td>2.000000</td>\n",
       "      <td>2.000000</td>\n",
       "      <td>2.000000</td>\n",
       "      <td>2.000000</td>\n",
       "      <td>2.000000</td>\n",
       "      <td>11.000000</td>\n",
       "      <td>10.000000</td>\n",
       "      <td>5.000000</td>\n",
       "      <td>6.000000</td>\n",
       "      <td>1.000000</td>\n",
       "      <td>11.000000</td>\n",
       "      <td>10.000000</td>\n",
       "      <td>4.000000</td>\n",
       "      <td>6.000000</td>\n",
       "      <td>1.000000</td>\n",
       "      <td>2.000000</td>\n",
       "    </tr>\n",
       "  </tbody>\n",
       "</table>\n",
       "</div>"
      ],
      "text/plain": [
       "       gameDuration    firstBlood    firstTower  firstInhibitor    firstBaron  \\\n",
       "count  40228.000000  40228.000000  40228.000000    40228.000000  40228.000000   \n",
       "mean    1873.357363      1.488217      1.483991        1.342125      0.951029   \n",
       "std      450.474431      0.499867      0.500495        0.651384      0.838984   \n",
       "min      613.000000      1.000000      0.000000        0.000000      0.000000   \n",
       "25%     1557.000000      1.000000      1.000000        1.000000      0.000000   \n",
       "50%     1849.000000      1.000000      1.000000        1.000000      1.000000   \n",
       "75%     2160.250000      2.000000      2.000000        2.000000      2.000000   \n",
       "max     4728.000000      2.000000      2.000000        2.000000      2.000000   \n",
       "\n",
       "        firstDragon  firstRiftHerald  t1_towerKills  t1_inhibitorKills  \\\n",
       "count  40228.000000     40228.000000   40228.000000       40228.000000   \n",
       "mean       1.478945         0.749428       5.841802           1.041613   \n",
       "std        0.530314         0.824197       3.733088           1.269904   \n",
       "min        0.000000         0.000000       0.000000           0.000000   \n",
       "25%        1.000000         0.000000       2.000000           0.000000   \n",
       "50%        1.000000         1.000000       6.000000           1.000000   \n",
       "75%        2.000000         1.000000       9.000000           2.000000   \n",
       "max        2.000000         2.000000      11.000000          10.000000   \n",
       "\n",
       "       t1_baronKills  t1_dragonKills  t1_riftHeraldKills  t2_towerKills  \\\n",
       "count   40228.000000    40228.000000        40228.000000   40228.000000   \n",
       "mean        0.381177        1.420578            0.257930       5.688923   \n",
       "std         0.587509        1.201287            0.437501       3.802829   \n",
       "min         0.000000        0.000000            0.000000       0.000000   \n",
       "25%         0.000000        0.000000            0.000000       2.000000   \n",
       "50%         0.000000        1.000000            0.000000       6.000000   \n",
       "75%         1.000000        2.000000            1.000000       9.000000   \n",
       "max         5.000000        6.000000            1.000000      11.000000   \n",
       "\n",
       "       t2_inhibitorKills  t2_baronKills  t2_dragonKills  t2_riftHeraldKills  \\\n",
       "count       40228.000000   40228.000000    40228.000000        40228.000000   \n",
       "mean            1.009148       0.426693        1.441260            0.245749   \n",
       "std             1.258008       0.618023        1.219698            0.430536   \n",
       "min             0.000000       0.000000        0.000000            0.000000   \n",
       "25%             0.000000       0.000000        0.000000            0.000000   \n",
       "50%             0.000000       0.000000        1.000000            0.000000   \n",
       "75%             2.000000       1.000000        2.000000            0.000000   \n",
       "max            10.000000       4.000000        6.000000            1.000000   \n",
       "\n",
       "             winner  \n",
       "count  40228.000000  \n",
       "mean       1.494680  \n",
       "std        0.499978  \n",
       "min        1.000000  \n",
       "25%        1.000000  \n",
       "50%        1.000000  \n",
       "75%        2.000000  \n",
       "max        2.000000  "
      ]
     },
     "execution_count": 42,
     "metadata": {},
     "output_type": "execute_result"
    }
   ],
   "source": [
    "c_entrenamiento.describe()"
   ]
  },
  {
   "cell_type": "markdown",
   "id": "c5061b59",
   "metadata": {},
   "source": [
    "## Pipeline para los atributos numéricos"
   ]
  },
  {
   "cell_type": "code",
   "execution_count": 43,
   "id": "ffe0d441",
   "metadata": {},
   "outputs": [],
   "source": [
    "from sklearn.pipeline import Pipeline\n",
    "from sklearn.impute import SimpleImputer\n",
    "from sklearn.preprocessing import StandardScaler\n",
    "from sklearn.preprocessing import OneHotEncoder"
   ]
  },
  {
   "cell_type": "code",
   "execution_count": 44,
   "id": "4af24157",
   "metadata": {},
   "outputs": [],
   "source": [
    "#Game Duration\n",
    "numero_atributos_num0 = [\"gameDuration\"]\n",
    "\n",
    "#Atributos categoricos\n",
    "numero_atributos_cat = [\"firstBlood\", \n",
    "                        \"firstTower\",\n",
    "                        \"firstInhibitor\", \n",
    "                        \"firstBaron\", \n",
    "                        \"firstDragon\", \n",
    "                        \"firstRiftHerald\"]\n",
    "\n",
    "#Atributos numericos\n",
    "numero_atributos_num = [\n",
    "                    \"t1_towerKills\" , \n",
    "                    \"t1_inhibitorKills\" , \n",
    "                    \"t1_baronKills\",\t\n",
    "                    \"t1_dragonKills\", \n",
    "                    \"t1_riftHeraldKills\",\t\n",
    "                    \"t2_towerKills\", \n",
    "                    \"t2_inhibitorKills\", \n",
    "                    \"t2_baronKills\", \n",
    "                    \"t2_dragonKills\", \n",
    "                    \"t2_riftHeraldKills\"]\n",
    "\n",
    "numero_pipeline = Pipeline([\n",
    "    (\"imputer\",SimpleImputer(strategy = \"median\")),\n",
    "    (\"scaler\", StandardScaler())\n",
    "])\n",
    "\n",
    "categorico_pipeline =   Pipeline([\n",
    "    (\"imputer\",SimpleImputer(strategy = \"most_frequent\")),\n",
    "    (\"scaler\", OneHotEncoder(sparse=False))\n",
    "])"
   ]
  },
  {
   "cell_type": "code",
   "execution_count": 45,
   "id": "9997192b",
   "metadata": {},
   "outputs": [],
   "source": [
    "from sklearn.compose import ColumnTransformer"
   ]
  },
  {
   "cell_type": "markdown",
   "id": "e44f2ffd",
   "metadata": {},
   "source": [
    "## Pipeline completo"
   ]
  },
  {
   "cell_type": "code",
   "execution_count": 46,
   "id": "0a9838ff",
   "metadata": {},
   "outputs": [],
   "source": [
    "full_pipeline = ColumnTransformer ([\n",
    "    (\"num0\", numero_pipeline, numero_atributos_num0),\n",
    "    (\"cat\", categorico_pipeline, numero_atributos_cat),\n",
    "    (\"num\", numero_pipeline, numero_atributos_num)\n",
    "])"
   ]
  },
  {
   "cell_type": "markdown",
   "id": "48855fe5",
   "metadata": {},
   "source": [
    "## Extraemos las etiquetas de clase"
   ]
  },
  {
   "cell_type": "code",
   "execution_count": 47,
   "id": "8cef8e20",
   "metadata": {},
   "outputs": [],
   "source": [
    "x_entrenamiento = full_pipeline.fit_transform(c_entrenamiento)"
   ]
  },
  {
   "cell_type": "code",
   "execution_count": 48,
   "id": "2b04cbfd",
   "metadata": {},
   "outputs": [
    {
     "data": {
      "text/plain": [
       "(40228, 28)"
      ]
     },
     "execution_count": 48,
     "metadata": {},
     "output_type": "execute_result"
    }
   ],
   "source": [
    "x_entrenamiento.shape"
   ]
  },
  {
   "cell_type": "code",
   "execution_count": 49,
   "id": "fcb5d2bf",
   "metadata": {},
   "outputs": [
    {
     "data": {
      "text/plain": [
       "array([-1.14848648,  1.        ,  0.        ,  0.        ,  0.        ,\n",
       "        1.        ,  0.        ,  1.        ,  0.        ,  1.        ,\n",
       "        0.        ,  0.        ,  0.        ,  1.        ,  0.        ,\n",
       "        1.        ,  0.        ,  0.        ,  0.04237785, -0.03276887,\n",
       "       -0.6488105 ,  0.48234041, -0.58956035, -1.23302443, -0.80218904,\n",
       "       -0.69042401, -1.18166801, -0.57080557])"
      ]
     },
     "execution_count": 49,
     "metadata": {},
     "output_type": "execute_result"
    }
   ],
   "source": [
    "x_entrenamiento[0,:]"
   ]
  },
  {
   "cell_type": "code",
   "execution_count": 50,
   "id": "1bd1795d",
   "metadata": {},
   "outputs": [
    {
     "data": {
      "text/plain": [
       "4564     1\n",
       "35250    1\n",
       "44937    1\n",
       "45058    1\n",
       "32089    2\n",
       "        ..\n",
       "39946    2\n",
       "2732     2\n",
       "5081     2\n",
       "41424    2\n",
       "37766    1\n",
       "Name: winner, Length: 40228, dtype: int64"
      ]
     },
     "execution_count": 50,
     "metadata": {},
     "output_type": "execute_result"
    }
   ],
   "source": [
    "y_entrenamiento = c_entrenamiento[\"winner\"]\n",
    "y_entrenamiento"
   ]
  },
  {
   "cell_type": "markdown",
   "id": "cde44e51",
   "metadata": {},
   "source": [
    "## Construcción de la red neuronal"
   ]
  },
  {
   "cell_type": "code",
   "execution_count": 51,
   "id": "8a901952",
   "metadata": {},
   "outputs": [],
   "source": [
    "from sklearn.neural_network import MLPClassifier\n",
    "from sklearn.model_selection import cross_val_score\n",
    "import matplotlib.pyplot as plt\n",
    "import seaborn as sns\n",
    "from sklearn.metrics import accuracy_score\n",
    "from sklearn.metrics import confusion_matrix\n",
    "import warnings"
   ]
  },
  {
   "cell_type": "code",
   "execution_count": 52,
   "id": "38f5e0b3",
   "metadata": {},
   "outputs": [],
   "source": [
    "warnings.filterwarnings(action= 'ignore')"
   ]
  },
  {
   "cell_type": "markdown",
   "id": "4a4a8bd0",
   "metadata": {},
   "source": [
    "### Modelo 1"
   ]
  },
  {
   "cell_type": "code",
   "execution_count": 53,
   "id": "cf665970",
   "metadata": {},
   "outputs": [
    {
     "name": "stdout",
     "output_type": "stream",
     "text": [
      "[0.98185434 0.97613721 0.97936863 0.97588864 0.9813572  0.97862292\n",
      " 0.97887149 0.97986577 0.98035803 0.98234709]\n",
      "0.9794671316212236\n"
     ]
    }
   ],
   "source": [
    "modelo_lol1 = MLPClassifier(activation='logistic',solver='lbfgs', alpha=1e-5,hidden_layer_sizes=(10,8), random_state=123)\n",
    "modelo_lol1.fit(x_entrenamiento,y_entrenamiento)\n",
    "scores1 = cross_val_score(modelo_lol1, x_entrenamiento, y_entrenamiento, cv = 10, scoring = 'accuracy')\n",
    "print(scores1)\n",
    "print(scores1.mean())\n"
   ]
  },
  {
   "cell_type": "markdown",
   "id": "78dc12e1",
   "metadata": {},
   "source": [
    "#### Vamos a predecir la presición del modelo"
   ]
  },
  {
   "cell_type": "code",
   "execution_count": 54,
   "id": "0b4375b2",
   "metadata": {},
   "outputs": [],
   "source": [
    "x_pruebas = full_pipeline.transform(c_pruebas)\n",
    "y_pruebas = c_pruebas[\"winner\"]\n",
    "y_pred1 = modelo_lol1.predict(x_pruebas)"
   ]
  },
  {
   "cell_type": "code",
   "execution_count": 55,
   "id": "44ff8e7a",
   "metadata": {},
   "outputs": [
    {
     "name": "stdout",
     "output_type": "stream",
     "text": [
      "Modelo 1 0.9814078345595546\n"
     ]
    }
   ],
   "source": [
    "print(\"Modelo 1\", accuracy_score(y_pruebas, y_pred1))"
   ]
  },
  {
   "cell_type": "markdown",
   "id": "72f89204",
   "metadata": {},
   "source": [
    "#### Matriz de confusión para el modelo 1"
   ]
  },
  {
   "cell_type": "code",
   "execution_count": 56,
   "id": "54821ede",
   "metadata": {},
   "outputs": [
    {
     "data": {
      "text/plain": [
       "array([[5026,  102],\n",
       "       [  85, 4845]], dtype=int64)"
      ]
     },
     "execution_count": 56,
     "metadata": {},
     "output_type": "execute_result"
    }
   ],
   "source": [
    "confusion_matrix1 = confusion_matrix(y_pruebas, y_pred1)\n",
    "confusion_matrix1"
   ]
  },
  {
   "cell_type": "code",
   "execution_count": 57,
   "id": "6c8b6e58",
   "metadata": {},
   "outputs": [
    {
     "data": {
      "image/png": "[encoded data removed]",
      "text/plain": [
       "<Figure size 432x288 with 2 Axes>"
      ]
     },
     "metadata": {
      "needs_background": "light"
     },
     "output_type": "display_data"
    }
   ],
   "source": [
    "ax = plt.subplot()\n",
    "sns.heatmap(confusion_matrix1, annot=True, ax = ax, fmt='d')\n",
    "\n",
    "ax.set_xlabel('Etiquetas Estimadas')\n",
    "ax.set_ylabel('Etiquetas reales') \n",
    "ax.set_title('Matriz de confusión - Ganadores del LoL') \n",
    "ax.xaxis.set_ticklabels(['Negative=0', 'Positive=1'])\n",
    "ax.yaxis.set_ticklabels(['Negative=0', 'Positive=1'])\n",
    "plt.show()"
   ]
  },
  {
   "cell_type": "markdown",
   "id": "0208c504",
   "metadata": {},
   "source": [
    "### Modelo 2"
   ]
  },
  {
   "cell_type": "code",
   "execution_count": 58,
   "id": "57dc08ce",
   "metadata": {},
   "outputs": [
    {
     "name": "stdout",
     "output_type": "stream",
     "text": [
      "[0.97986577 0.98011434 0.98011434 0.97439722 0.98210291 0.97837435\n",
      " 0.98011434 0.98284862 0.97886624 0.9808553 ]\n",
      "0.9797653423199497\n"
     ]
    }
   ],
   "source": [
    "modelo_lol2 = MLPClassifier(activation='tanh',solver='adam', alpha=1e-5,hidden_layer_sizes=(5,20,1,10), random_state=123)\n",
    "modelo_lol2.fit(x_entrenamiento,y_entrenamiento)\n",
    "scores2 = cross_val_score(modelo_lol2, x_entrenamiento, y_entrenamiento, cv = 10, scoring = 'accuracy')\n",
    "print(scores2)\n",
    "print(scores2.mean())"
   ]
  },
  {
   "cell_type": "markdown",
   "id": "cec188e2",
   "metadata": {},
   "source": [
    "#### Vamos a predecir la presición del modelo"
   ]
  },
  {
   "cell_type": "code",
   "execution_count": 59,
   "id": "855ef9e7",
   "metadata": {},
   "outputs": [],
   "source": [
    "y_pred2 = modelo_lol2.predict(x_pruebas)"
   ]
  },
  {
   "cell_type": "code",
   "execution_count": 60,
   "id": "5d7a8752",
   "metadata": {},
   "outputs": [
    {
     "name": "stdout",
     "output_type": "stream",
     "text": [
      "Modelo 2 0.9818055279379598\n"
     ]
    }
   ],
   "source": [
    "print(\"Modelo 2\", accuracy_score(y_pruebas, y_pred2))"
   ]
  },
  {
   "cell_type": "markdown",
   "id": "6aa4b762",
   "metadata": {},
   "source": [
    "#### Matriz de confusión para el modelo 2"
   ]
  },
  {
   "cell_type": "code",
   "execution_count": 61,
   "id": "1554589c",
   "metadata": {},
   "outputs": [
    {
     "data": {
      "text/plain": [
       "array([[5045,   83],\n",
       "       [ 100, 4830]], dtype=int64)"
      ]
     },
     "execution_count": 61,
     "metadata": {},
     "output_type": "execute_result"
    }
   ],
   "source": [
    "confusion_matrix2 = confusion_matrix(y_pruebas, y_pred2)\n",
    "confusion_matrix2"
   ]
  },
  {
   "cell_type": "code",
   "execution_count": 62,
   "id": "43cc4fbd",
   "metadata": {},
   "outputs": [
    {
     "data": {
      "image/png": "[encoded data removed]",
      "text/plain": [
       "<Figure size 432x288 with 2 Axes>"
      ]
     },
     "metadata": {
      "needs_background": "light"
     },
     "output_type": "display_data"
    }
   ],
   "source": [
    "ax = plt.subplot()\n",
    "sns.heatmap(confusion_matrix2, annot=True, ax = ax, fmt='d')\n",
    "\n",
    "ax.set_xlabel('Etiquetas Estimadas')\n",
    "ax.set_ylabel('Etiquetas reales') \n",
    "ax.set_title('Matriz de confusión - Ganadores del LoL') \n",
    "ax.xaxis.set_ticklabels(['Negative=0', 'Positive=1'])\n",
    "ax.yaxis.set_ticklabels(['Negative=0', 'Positive=1'])\n",
    "plt.show()"
   ]
  },
  {
   "cell_type": "markdown",
   "id": "25afacf5",
   "metadata": {},
   "source": [
    "### Modelo 3"
   ]
  },
  {
   "cell_type": "code",
   "execution_count": 63,
   "id": "2e955be1",
   "metadata": {},
   "outputs": [
    {
     "name": "stdout",
     "output_type": "stream",
     "text": [
      "[0.97912006 0.97787721 0.97663435 0.9736515  0.9813572  0.97514293\n",
      " 0.97738006 0.97812578 0.98135256 0.98135256]\n",
      "0.9781994209575398\n"
     ]
    }
   ],
   "source": [
    "modelo_lol3 = MLPClassifier(activation='tanh',solver='sgd', alpha=1e-5,hidden_layer_sizes=(10, 5, 1, 12), random_state=123)\n",
    "modelo_lol3.fit(x_entrenamiento,y_entrenamiento)\n",
    "scores3 = cross_val_score(modelo_lol3, x_entrenamiento, y_entrenamiento, cv = 10, scoring = 'accuracy')\n",
    "print(scores3)\n",
    "print(scores3.mean())"
   ]
  },
  {
   "cell_type": "markdown",
   "id": "e38c563b",
   "metadata": {},
   "source": [
    "#### Vamos a predecir la presición del modelo"
   ]
  },
  {
   "cell_type": "code",
   "execution_count": 64,
   "id": "2fe085a2",
   "metadata": {},
   "outputs": [
    {
     "name": "stdout",
     "output_type": "stream",
     "text": [
      "[1 2 2 ... 2 1 2]\n"
     ]
    }
   ],
   "source": [
    "y_pred3 = modelo_lol3.predict(x_pruebas)\n",
    "print(y_pred3)"
   ]
  },
  {
   "cell_type": "code",
   "execution_count": 66,
   "id": "6c4ffa9b",
   "metadata": {},
   "outputs": [
    {
     "name": "stdout",
     "output_type": "stream",
     "text": [
      "Modelo 3 0.9794193676675284\n"
     ]
    }
   ],
   "source": [
    "print(\"Modelo 3\", accuracy_score(y_pruebas, y_pred3))"
   ]
  },
  {
   "cell_type": "markdown",
   "id": "a134086e",
   "metadata": {},
   "source": [
    "#### Matriz de confusión para el modelo 3"
   ]
  },
  {
   "cell_type": "code",
   "execution_count": 67,
   "id": "6c00d196",
   "metadata": {},
   "outputs": [
    {
     "name": "stdout",
     "output_type": "stream",
     "text": [
      "[[5027  101]\n",
      " [ 106 4824]]\n"
     ]
    }
   ],
   "source": [
    "confusion_matrix3 = confusion_matrix(y_pruebas, y_pred3)\n",
    "print(confusion_matrix3)"
   ]
  },
  {
   "cell_type": "code",
   "execution_count": 68,
   "id": "ebe44294",
   "metadata": {},
   "outputs": [
    {
     "data": {
      "image/png": "[encoded data removed]",
      "text/plain": [
       "<Figure size 432x288 with 2 Axes>"
      ]
     },
     "metadata": {
      "needs_background": "light"
     },
     "output_type": "display_data"
    }
   ],
   "source": [
    "ax = plt.subplot()\n",
    "sns.heatmap(confusion_matrix3, annot=True, ax = ax, fmt='d')\n",
    "\n",
    "ax.set_xlabel('Etiquetas Estimadas')\n",
    "ax.set_ylabel('Etiquetas reales') \n",
    "ax.set_title('Matriz de confusión - Ganadores del LoL') \n",
    "ax.xaxis.set_ticklabels(['Negative=0', 'Positive=1'])\n",
    "ax.yaxis.set_ticklabels(['Negative=0', 'Positive=1'])\n",
    "plt.show()"
   ]
  },
  {
   "cell_type": "markdown",
   "id": "c9bcc76c",
   "metadata": {},
   "source": [
    "### Modelo 4"
   ]
  },
  {
   "cell_type": "code",
   "execution_count": 69,
   "id": "f91a0af3",
   "metadata": {},
   "outputs": [
    {
     "name": "stdout",
     "output_type": "stream",
     "text": [
      "[0.97862292 0.97315436 0.97514293 0.97166294 0.97489436 0.97514293\n",
      " 0.97762864 0.97588864 0.97488812 0.97787171]\n",
      "0.9754897529162561\n"
     ]
    }
   ],
   "source": [
    "modelo_lol4 = MLPClassifier(activation='relu',solver='adam', alpha=1e-5,hidden_layer_sizes=(30, 30, 30), random_state=123)\n",
    "modelo_lol4.fit(x_entrenamiento,y_entrenamiento)\n",
    "scores4 = cross_val_score(modelo_lol4, x_entrenamiento, y_entrenamiento, cv = 10, scoring = 'accuracy')\n",
    "print(scores4)\n",
    "print(scores4.mean())"
   ]
  },
  {
   "cell_type": "markdown",
   "id": "c05b2851",
   "metadata": {},
   "source": [
    "#### Vamos a predecir la presición del modelo"
   ]
  },
  {
   "cell_type": "code",
   "execution_count": 73,
   "id": "19e1cf1b",
   "metadata": {},
   "outputs": [
    {
     "name": "stdout",
     "output_type": "stream",
     "text": [
      "[1 2 2 ... 2 1 2]\n"
     ]
    }
   ],
   "source": [
    "y_pred4 = modelo_lol4.predict(x_pruebas)\n",
    "print(y_pred4)"
   ]
  },
  {
   "cell_type": "code",
   "execution_count": 74,
   "id": "ca919ebd",
   "metadata": {},
   "outputs": [
    {
     "name": "stdout",
     "output_type": "stream",
     "text": [
      "Modelo 4 0.9776297474647048\n"
     ]
    }
   ],
   "source": [
    "print(\"Modelo 4\", accuracy_score(y_pruebas, y_pred4))"
   ]
  },
  {
   "cell_type": "markdown",
   "id": "1d4a7a15",
   "metadata": {},
   "source": [
    "#### Matriz de confusión para el modelo 4"
   ]
  },
  {
   "cell_type": "code",
   "execution_count": 75,
   "id": "697422c2",
   "metadata": {},
   "outputs": [
    {
     "name": "stdout",
     "output_type": "stream",
     "text": [
      "[[5002  126]\n",
      " [  99 4831]]\n"
     ]
    }
   ],
   "source": [
    "confusion_matrix4 = confusion_matrix(y_pruebas, y_pred4)\n",
    "print(confusion_matrix4)"
   ]
  },
  {
   "cell_type": "code",
   "execution_count": 76,
   "id": "c067838e",
   "metadata": {},
   "outputs": [
    {
     "data": {
      "image/png": "[encoded data removed]",
      "text/plain": [
       "<Figure size 432x288 with 2 Axes>"
      ]
     },
     "metadata": {
      "needs_background": "light"
     },
     "output_type": "display_data"
    }
   ],
   "source": [
    "ax = plt.subplot()\n",
    "sns.heatmap(confusion_matrix4, annot=True, ax = ax, fmt='d')\n",
    "\n",
    "ax.set_xlabel('Etiquetas Estimadas')\n",
    "ax.set_ylabel('Etiquetas reales') \n",
    "ax.set_title('Matriz de confusión - Ganadores del LoL') \n",
    "ax.xaxis.set_ticklabels(['Negative=0', 'Positive=1'])\n",
    "ax.yaxis.set_ticklabels(['Negative=0', 'Positive=1'])\n",
    "plt.show()"
   ]
  },
  {
   "cell_type": "markdown",
   "id": "c7fc6783",
   "metadata": {},
   "source": [
    "### Modelo 5"
   ]
  },
  {
   "cell_type": "code",
   "execution_count": 84,
   "id": "ddc727e2",
   "metadata": {},
   "outputs": [
    {
     "name": "stdout",
     "output_type": "stream",
     "text": [
      "[0.98036291 0.97837435 0.98036291 0.9736515  0.98110863 0.97762864\n",
      " 0.97936863 0.98235148 0.9808553  0.98309299]\n",
      "0.9797157332409754\n"
     ]
    }
   ],
   "source": [
    "modelo_lol5 = MLPClassifier(activation='tanh',solver='adam', alpha=1e-5,hidden_layer_sizes=(10,1,20,1,30), random_state=123)\n",
    "modelo_lol5.fit(x_entrenamiento,y_entrenamiento)\n",
    "scores5 = cross_val_score(modelo_lol5, x_entrenamiento, y_entrenamiento, cv = 10, scoring = 'accuracy')\n",
    "print(scores5)\n",
    "print(scores5.mean())"
   ]
  },
  {
   "cell_type": "markdown",
   "id": "90809bbf",
   "metadata": {},
   "source": [
    "#### Vamos a predecir la presición del modelo"
   ]
  },
  {
   "cell_type": "code",
   "execution_count": 87,
   "id": "9e144cac",
   "metadata": {},
   "outputs": [
    {
     "name": "stdout",
     "output_type": "stream",
     "text": [
      "[1 2 2 ... 2 1 2]\n"
     ]
    }
   ],
   "source": [
    "y_pred5 = modelo_lol5.predict(x_pruebas)\n",
    "print(y_pred5)"
   ]
  },
  {
   "cell_type": "code",
   "execution_count": 89,
   "id": "b2b7ca31",
   "metadata": {},
   "outputs": [
    {
     "name": "stdout",
     "output_type": "stream",
     "text": [
      "Modelo 5 0.9814078345595546\n"
     ]
    }
   ],
   "source": [
    "print(\"Modelo 5\",accuracy_score(y_pruebas, y_pred5))"
   ]
  },
  {
   "cell_type": "markdown",
   "id": "26bdb17b",
   "metadata": {},
   "source": [
    "#### Matriz de confusión para el modelo 5"
   ]
  },
  {
   "cell_type": "code",
   "execution_count": 91,
   "id": "037ba341",
   "metadata": {},
   "outputs": [
    {
     "name": "stdout",
     "output_type": "stream",
     "text": [
      "[[4999  129]\n",
      " [  58 4872]]\n"
     ]
    }
   ],
   "source": [
    "confusion_matrix5 = confusion_matrix(y_pruebas, y_pred5)\n",
    "print(confusion_matrix5)"
   ]
  },
  {
   "cell_type": "code",
   "execution_count": 92,
   "id": "a9daf79d",
   "metadata": {},
   "outputs": [
    {
     "data": {
      "image/png": "[encoded data removed]",
      "text/plain": [
       "<Figure size 432x288 with 2 Axes>"
      ]
     },
     "metadata": {
      "needs_background": "light"
     },
     "output_type": "display_data"
    }
   ],
   "source": [
    "ax = plt.subplot()\n",
    "sns.heatmap(confusion_matrix5, annot=True, ax = ax, fmt='d')\n",
    "\n",
    "ax.set_xlabel('Etiquetas Estimadas')\n",
    "ax.set_ylabel('Etiquetas reales') \n",
    "ax.set_title('Matriz de confusión - Ganadores del LoL') \n",
    "ax.xaxis.set_ticklabels(['Negative=0', 'Positive=1'])\n",
    "ax.yaxis.set_ticklabels(['Negative=0', 'Positive=1'])\n",
    "plt.show()"
   ]
  },
  {
   "cell_type": "markdown",
   "id": "4cbe328e",
   "metadata": {},
   "source": [
    "## Tabla de resultados"
   ]
  },
  {
   "cell_type": "markdown",
   "id": "ad0aa83e",
   "metadata": {},
   "source": [
    "|||| Accuracy Obtenido   ||||\n",
    "| :--- | :--- | :--- | :----: | :----: |:----:  | :----: |\n",
    "| __Modelo__ | __Activation__ | __Solver__ | __Alpha__ | __Hidden_layer_sizes__ | __Random_state__ | __Accuracy__ |\n",
    "| 1 |logistic | lbfgs | 1e-5 | (10,8) | 123 | 0.9814078345595546|\n",
    "| 2 |tanh | adam | 1e-5 | (5,20,1,10) | 123 | 0.9818055279379598 |\n",
    "| 3 |tanh | sgd | 1e-5 | (10,5,1,12) | 123 | 0.9794193676675284 |\n",
    "| 4 |relu | adam | 1e-5 | (30,30,30) | 123 | 0.9776297474647048 |\n",
    "| 5 |tanh | adam | 1e-5 | (10,1,20,1,30) | 123 | 0.9814078345595546 |"
   ]
  },
  {
   "cell_type": "markdown",
   "id": "cb1831d2",
   "metadata": {},
   "source": [
    "### Los hiperparámetros utilizados en la prueba #2 fueron los que generar la mejor accuracy"
   ]
  },
  {
   "cell_type": "markdown",
   "id": "2a718cad",
   "metadata": {},
   "source": [
    "### Modificación de un nuevo hiperparametro"
   ]
  },
  {
   "cell_type": "markdown",
   "id": "24352023",
   "metadata": {},
   "source": [
    "### Modelo 6"
   ]
  },
  {
   "cell_type": "code",
   "execution_count": 95,
   "id": "c4e4cb62",
   "metadata": {},
   "outputs": [
    {
     "name": "stdout",
     "output_type": "stream",
     "text": [
      "[0.97936863 0.97837435 0.97638578 0.97514293 0.9813572  0.97688292\n",
      " 0.98036291 0.98235148 0.97961213 0.97961213]\n",
      "0.9789450465887779\n"
     ]
    }
   ],
   "source": [
    "modelo_lol6 = MLPClassifier(activation='tanh',solver='adam', alpha=1e-5,hidden_layer_sizes=(5,20,1,10), random_state=123, beta_1 = 0.5)\n",
    "modelo_lol6.fit(x_entrenamiento,y_entrenamiento)\n",
    "scores6 = cross_val_score(modelo_lol6, x_entrenamiento, y_entrenamiento, cv = 10, scoring = 'accuracy')\n",
    "print(scores6)\n",
    "print(scores6.mean())"
   ]
  },
  {
   "cell_type": "markdown",
   "id": "8f4229be",
   "metadata": {},
   "source": [
    "#### Vamos a predecir la presición del modelo"
   ]
  },
  {
   "cell_type": "code",
   "execution_count": 97,
   "id": "9fb3bcef",
   "metadata": {},
   "outputs": [
    {
     "name": "stdout",
     "output_type": "stream",
     "text": [
      "[1 2 2 ... 2 1 2]\n"
     ]
    }
   ],
   "source": [
    "y_pred6 = modelo_lol6.predict(x_pruebas)\n",
    "print(y_pred6)"
   ]
  },
  {
   "cell_type": "code",
   "execution_count": 98,
   "id": "a8b1aeb8",
   "metadata": {},
   "outputs": [
    {
     "name": "stdout",
     "output_type": "stream",
     "text": [
      "Modelo 6 0.9820043746271625\n"
     ]
    }
   ],
   "source": [
    "print(\"Modelo 6\",accuracy_score(y_pruebas, y_pred6))"
   ]
  },
  {
   "cell_type": "markdown",
   "id": "bb94ed70",
   "metadata": {},
   "source": [
    "#### Matriz de confusión para el modelo 6"
   ]
  },
  {
   "cell_type": "code",
   "execution_count": 99,
   "id": "690f5459",
   "metadata": {},
   "outputs": [
    {
     "name": "stdout",
     "output_type": "stream",
     "text": [
      "[[5031   97]\n",
      " [  84 4846]]\n"
     ]
    }
   ],
   "source": [
    "confusion_matrix6 = confusion_matrix(y_pruebas, y_pred6)\n",
    "print(confusion_matrix6)"
   ]
  },
  {
   "cell_type": "code",
   "execution_count": 100,
   "id": "8839fab3",
   "metadata": {},
   "outputs": [
    {
     "data": {
      "image/png": "[encoded data removed]",
      "text/plain": [
       "<Figure size 432x288 with 2 Axes>"
      ]
     },
     "metadata": {
      "needs_background": "light"
     },
     "output_type": "display_data"
    }
   ],
   "source": [
    "ax = plt.subplot()\n",
    "sns.heatmap(confusion_matrix6, annot=True, ax = ax, fmt='d')\n",
    "\n",
    "ax.set_xlabel('Etiquetas Estimadas')\n",
    "ax.set_ylabel('Etiquetas reales') \n",
    "ax.set_title('Matriz de confusión - Ganadores del LoL') \n",
    "ax.xaxis.set_ticklabels(['Negative=0', 'Positive=1'])\n",
    "ax.yaxis.set_ticklabels(['Negative=0', 'Positive=1'])\n",
    "plt.show()"
   ]
  },
  {
   "cell_type": "markdown",
   "id": "8a58eeb7",
   "metadata": {},
   "source": [
    "### Modelo 7"
   ]
  },
  {
   "cell_type": "code",
   "execution_count": 101,
   "id": "c711cc54",
   "metadata": {},
   "outputs": [
    {
     "name": "stdout",
     "output_type": "stream",
     "text": [
      "[0.97936863 0.94432016 0.93214019 0.95227442 0.95525727 0.9652001\n",
      " 0.98061148 0.98260005 0.97911487 0.98234709]\n",
      "0.9653234268446239\n"
     ]
    }
   ],
   "source": [
    "modelo_lol7 = MLPClassifier(activation='tanh',solver='adam', alpha=1e-5,hidden_layer_sizes=(5,20,1,10), random_state=123, beta_1 = 0)\n",
    "modelo_lol7.fit(x_entrenamiento,y_entrenamiento)\n",
    "scores7 = cross_val_score(modelo_lol7, x_entrenamiento, y_entrenamiento, cv = 10, scoring = 'accuracy')\n",
    "print(scores7)\n",
    "print(scores7.mean())"
   ]
  },
  {
   "cell_type": "markdown",
   "id": "bbca95ea",
   "metadata": {},
   "source": [
    "#### Vamos a predecir la presición del modelo"
   ]
  },
  {
   "cell_type": "code",
   "execution_count": 102,
   "id": "da5d7b2c",
   "metadata": {},
   "outputs": [
    {
     "name": "stdout",
     "output_type": "stream",
     "text": [
      "[1 2 2 ... 2 1 2]\n"
     ]
    }
   ],
   "source": [
    "y_pred7 = modelo_lol7.predict(x_pruebas)\n",
    "print(y_pred7)"
   ]
  },
  {
   "cell_type": "code",
   "execution_count": 103,
   "id": "99553d79",
   "metadata": {},
   "outputs": [
    {
     "name": "stdout",
     "output_type": "stream",
     "text": [
      "Modelo 7 0.9787234042553191\n"
     ]
    }
   ],
   "source": [
    "print(\"Modelo 7\",accuracy_score(y_pruebas, y_pred7))"
   ]
  },
  {
   "cell_type": "markdown",
   "id": "e1f4e844",
   "metadata": {},
   "source": [
    "#### Matriz de confusión para el modelo 7"
   ]
  },
  {
   "cell_type": "code",
   "execution_count": 104,
   "id": "4ad2ea53",
   "metadata": {},
   "outputs": [
    {
     "name": "stdout",
     "output_type": "stream",
     "text": [
      "[[5085   43]\n",
      " [ 171 4759]]\n"
     ]
    }
   ],
   "source": [
    "confusion_matrix7 = confusion_matrix(y_pruebas, y_pred7)\n",
    "print(confusion_matrix7)"
   ]
  },
  {
   "cell_type": "code",
   "execution_count": 105,
   "id": "7dd853ee",
   "metadata": {},
   "outputs": [
    {
     "data": {
      "image/png": "[encoded data removed]",
      "text/plain": [
       "<Figure size 432x288 with 2 Axes>"
      ]
     },
     "metadata": {
      "needs_background": "light"
     },
     "output_type": "display_data"
    }
   ],
   "source": [
    "ax = plt.subplot()\n",
    "sns.heatmap(confusion_matrix7, annot=True, ax = ax, fmt='d')\n",
    "\n",
    "ax.set_xlabel('Etiquetas Estimadas')\n",
    "ax.set_ylabel('Etiquetas reales') \n",
    "ax.set_title('Matriz de confusión - Ganadores del LoL') \n",
    "ax.xaxis.set_ticklabels(['Negative=0', 'Positive=1'])\n",
    "ax.yaxis.set_ticklabels(['Negative=0', 'Positive=1'])\n",
    "plt.show()"
   ]
  },
  {
   "cell_type": "markdown",
   "id": "3dc7144e",
   "metadata": {},
   "source": [
    "#### Se observa un aumento en la presición respecto a la prueba base sin el parámetro beta_1. Además mencionar que beta_1 = 0.5  arroja un mejor resultado."
   ]
  }
 ],
 "metadata": {
  "kernelspec": {
   "display_name": "Python 3.9.1 64-bit",
   "language": "python",
   "name": "python3"
  },
  "language_info": {
   "codemirror_mode": {
    "name": "ipython",
    "version": 3
   },
   "file_extension": ".py",
   "mimetype": "text/x-python",
   "name": "python",
   "nbconvert_exporter": "python",
   "pygments_lexer": "ipython3",
   "version": "3.9.1"
  },
  "vscode": {
   "interpreter": {
    "hash": "cf92aa13fedf815d5c8dd192b8d835913fde3e8bc926b2a0ad6cc74ef2ba3ca2"
   }
  }
 },
 "nbformat": 4,
 "nbformat_minor": 5
}
